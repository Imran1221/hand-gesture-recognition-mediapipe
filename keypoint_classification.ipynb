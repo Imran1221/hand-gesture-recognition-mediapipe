{
 "cells": [
  {
   "cell_type": "code",
   "execution_count": 1,
   "metadata": {
    "id": "igMyGnjE9hEp"
   },
   "outputs": [],
   "source": [
    "import csv\n",
    "\n",
    "import numpy as np\n",
    "import tensorflow as tf\n",
    "from sklearn.model_selection import train_test_split\n",
    "\n",
    "RANDOM_SEED = 42"
   ]
  },
  {
   "cell_type": "markdown",
   "metadata": {
    "id": "t2HDvhIu9hEr"
   },
   "source": [
    "# Specify each path"
   ]
  },
  {
   "cell_type": "code",
   "execution_count": 2,
   "metadata": {
    "id": "9NvZP2Zn9hEy"
   },
   "outputs": [],
   "source": [
    "dataset = 'model/keypoint_classifier/keypoint.csv'\n",
    "model_save_path = 'model/keypoint_classifier/keypoint_classifier.hdf5'\n",
    "tflite_save_path = 'model/keypoint_classifier/keypoint_classifier.tflite'"
   ]
  },
  {
   "cell_type": "markdown",
   "metadata": {
    "id": "s5oMH7x19hEz"
   },
   "source": [
    "# Set number of classes"
   ]
  },
  {
   "cell_type": "code",
   "execution_count": 3,
   "metadata": {
    "id": "du4kodXL9hEz"
   },
   "outputs": [],
   "source": [
    "NUM_CLASSES = 11"
   ]
  },
  {
   "cell_type": "markdown",
   "metadata": {
    "id": "XjnL0uso9hEz"
   },
   "source": [
    "# Dataset reading"
   ]
  },
  {
   "cell_type": "code",
   "execution_count": 4,
   "metadata": {
    "id": "QT5ZqtEz9hE0"
   },
   "outputs": [],
   "source": [
    "X_dataset = np.loadtxt(dataset, delimiter=',', dtype='float32', usecols=list(range(1, (21 * 2) + 1)))"
   ]
  },
  {
   "cell_type": "code",
   "execution_count": 5,
   "metadata": {
    "id": "QmoKFsp49hE0"
   },
   "outputs": [],
   "source": [
    "y_dataset = np.loadtxt(dataset, delimiter=',', dtype='int32', usecols=(0))"
   ]
  },
  {
   "cell_type": "code",
   "execution_count": 6,
   "metadata": {
    "id": "xQU7JTZ_9hE0"
   },
   "outputs": [],
   "source": [
    "X_train, X_test, y_train, y_test = train_test_split(X_dataset, y_dataset, train_size=0.75, random_state=RANDOM_SEED)"
   ]
  },
  {
   "cell_type": "markdown",
   "metadata": {
    "id": "mxK_lETT9hE0"
   },
   "source": [
    "# Model building"
   ]
  },
  {
   "cell_type": "code",
   "execution_count": 7,
   "metadata": {
    "id": "vHBmUf1t9hE1"
   },
   "outputs": [],
   "source": [
    "model = tf.keras.models.Sequential([\n",
    "    tf.keras.layers.Input((21 * 2, )),\n",
    "    tf.keras.layers.Dropout(0.2),\n",
    "    tf.keras.layers.Dense(40, activation='relu'),\n",
    "    tf.keras.layers.Dropout(0.4),\n",
    "    tf.keras.layers.Dense(30, activation='relu'),\n",
    "    tf.keras.layers.Dense(NUM_CLASSES, activation='softmax')\n",
    "])"
   ]
  },
  {
   "cell_type": "code",
   "execution_count": 8,
   "metadata": {
    "colab": {
     "base_uri": "https://localhost:8080/"
    },
    "id": "ypqky9tc9hE1",
    "outputId": "5db082bb-30e3-4110-bf63-a1ee777ecd46"
   },
   "outputs": [
    {
     "name": "stdout",
     "output_type": "stream",
     "text": [
      "Model: \"sequential\"\n",
      "_________________________________________________________________\n",
      " Layer (type)                Output Shape              Param #   \n",
      "=================================================================\n",
      " dropout (Dropout)           (None, 42)                0         \n",
      "                                                                 \n",
      " dense (Dense)               (None, 40)                1720      \n",
      "                                                                 \n",
      " dropout_1 (Dropout)         (None, 40)                0         \n",
      "                                                                 \n",
      " dense_1 (Dense)             (None, 30)                1230      \n",
      "                                                                 \n",
      " dense_2 (Dense)             (None, 11)                341       \n",
      "                                                                 \n",
      "=================================================================\n",
      "Total params: 3,291\n",
      "Trainable params: 3,291\n",
      "Non-trainable params: 0\n",
      "_________________________________________________________________\n"
     ]
    }
   ],
   "source": [
    "model.summary()  # tf.keras.utils.plot_model(model, show_shapes=True)"
   ]
  },
  {
   "cell_type": "code",
   "execution_count": 9,
   "metadata": {
    "id": "MbMjOflQ9hE1"
   },
   "outputs": [],
   "source": [
    "# Model checkpoint callback\n",
    "cp_callback = tf.keras.callbacks.ModelCheckpoint(\n",
    "    model_save_path, verbose=1, save_weights_only=False)\n",
    "# Callback for early stopping\n",
    "es_callback = tf.keras.callbacks.EarlyStopping(patience=20, verbose=1)"
   ]
  },
  {
   "cell_type": "code",
   "execution_count": 10,
   "metadata": {
    "id": "c3Dac0M_9hE2"
   },
   "outputs": [],
   "source": [
    "# Model compilation\n",
    "model.compile(\n",
    "    optimizer='adam',\n",
    "    loss='sparse_categorical_crossentropy',\n",
    "    metrics=['accuracy']\n",
    ")"
   ]
  },
  {
   "cell_type": "markdown",
   "metadata": {
    "id": "7XI0j1Iu9hE2"
   },
   "source": [
    "# Model training"
   ]
  },
  {
   "cell_type": "code",
   "execution_count": 11,
   "metadata": {
    "colab": {
     "base_uri": "https://localhost:8080/"
    },
    "id": "WirBl-JE9hE3",
    "outputId": "71b30ca2-8294-4d9d-8aa2-800d90d399de",
    "scrolled": true
   },
   "outputs": [
    {
     "name": "stdout",
     "output_type": "stream",
     "text": [
      "Epoch 1/1000\n",
      "37/63 [================>.............] - ETA: 0s - loss: 2.3714 - accuracy: 0.1309 \n",
      "Epoch 1: saving model to model/keypoint_classifier\\keypoint_classifier.hdf5\n",
      "63/63 [==============================] - 1s 5ms/step - loss: 2.3087 - accuracy: 0.1615 - val_loss: 2.1310 - val_accuracy: 0.2721\n",
      "Epoch 2/1000\n",
      "32/63 [==============>...............] - ETA: 0s - loss: 2.1343 - accuracy: 0.2437\n",
      "Epoch 2: saving model to model/keypoint_classifier\\keypoint_classifier.hdf5\n",
      "63/63 [==============================] - 0s 2ms/step - loss: 2.0788 - accuracy: 0.2692 - val_loss: 1.8675 - val_accuracy: 0.3943\n",
      "Epoch 3/1000\n",
      "35/63 [===============>..............] - ETA: 0s - loss: 1.9163 - accuracy: 0.3192\n",
      "Epoch 3: saving model to model/keypoint_classifier\\keypoint_classifier.hdf5\n",
      "63/63 [==============================] - 0s 2ms/step - loss: 1.8690 - accuracy: 0.3310 - val_loss: 1.5844 - val_accuracy: 0.5162\n",
      "Epoch 4/1000\n",
      "36/63 [================>.............] - ETA: 0s - loss: 1.7300 - accuracy: 0.3763\n",
      "Epoch 4: saving model to model/keypoint_classifier\\keypoint_classifier.hdf5\n",
      "63/63 [==============================] - 0s 2ms/step - loss: 1.6955 - accuracy: 0.3946 - val_loss: 1.3471 - val_accuracy: 0.6687\n",
      "Epoch 5/1000\n",
      "34/63 [===============>..............] - ETA: 0s - loss: 1.6022 - accuracy: 0.4324\n",
      "Epoch 5: saving model to model/keypoint_classifier\\keypoint_classifier.hdf5\n",
      "63/63 [==============================] - 0s 2ms/step - loss: 1.5763 - accuracy: 0.4380 - val_loss: 1.1737 - val_accuracy: 0.7181\n",
      "Epoch 6/1000\n",
      "36/63 [================>.............] - ETA: 0s - loss: 1.4819 - accuracy: 0.4644\n",
      "Epoch 6: saving model to model/keypoint_classifier\\keypoint_classifier.hdf5\n",
      "63/63 [==============================] - 0s 2ms/step - loss: 1.4651 - accuracy: 0.4741 - val_loss: 1.0513 - val_accuracy: 0.7721\n",
      "Epoch 7/1000\n",
      "37/63 [================>.............] - ETA: 0s - loss: 1.4016 - accuracy: 0.5133\n",
      "Epoch 7: saving model to model/keypoint_classifier\\keypoint_classifier.hdf5\n",
      "63/63 [==============================] - 0s 2ms/step - loss: 1.3869 - accuracy: 0.5168 - val_loss: 0.9616 - val_accuracy: 0.7872\n",
      "Epoch 8/1000\n",
      "33/63 [==============>...............] - ETA: 0s - loss: 1.3630 - accuracy: 0.5059\n",
      "Epoch 8: saving model to model/keypoint_classifier\\keypoint_classifier.hdf5\n",
      "63/63 [==============================] - 0s 2ms/step - loss: 1.3519 - accuracy: 0.5144 - val_loss: 0.8936 - val_accuracy: 0.8004\n",
      "Epoch 9/1000\n",
      "37/63 [================>.............] - ETA: 0s - loss: 1.3011 - accuracy: 0.5418\n",
      "Epoch 9: saving model to model/keypoint_classifier\\keypoint_classifier.hdf5\n",
      "63/63 [==============================] - 0s 2ms/step - loss: 1.2928 - accuracy: 0.5441 - val_loss: 0.8364 - val_accuracy: 0.8117\n",
      "Epoch 10/1000\n",
      "37/63 [================>.............] - ETA: 0s - loss: 1.2626 - accuracy: 0.5515\n",
      "Epoch 10: saving model to model/keypoint_classifier\\keypoint_classifier.hdf5\n",
      "63/63 [==============================] - 0s 2ms/step - loss: 1.2510 - accuracy: 0.5572 - val_loss: 0.7899 - val_accuracy: 0.8204\n",
      "Epoch 11/1000\n",
      "37/63 [================>.............] - ETA: 0s - loss: 1.2337 - accuracy: 0.5572\n",
      "Epoch 11: saving model to model/keypoint_classifier\\keypoint_classifier.hdf5\n",
      "63/63 [==============================] - 0s 2ms/step - loss: 1.2219 - accuracy: 0.5633 - val_loss: 0.7460 - val_accuracy: 0.8321\n",
      "Epoch 12/1000\n",
      "38/63 [=================>............] - ETA: 0s - loss: 1.1838 - accuracy: 0.5882\n",
      "Epoch 12: saving model to model/keypoint_classifier\\keypoint_classifier.hdf5\n",
      "63/63 [==============================] - 0s 2ms/step - loss: 1.1911 - accuracy: 0.5872 - val_loss: 0.7212 - val_accuracy: 0.8453\n",
      "Epoch 13/1000\n",
      "37/63 [================>.............] - ETA: 0s - loss: 1.1729 - accuracy: 0.5880\n",
      "Epoch 13: saving model to model/keypoint_classifier\\keypoint_classifier.hdf5\n",
      "63/63 [==============================] - 0s 2ms/step - loss: 1.1624 - accuracy: 0.5915 - val_loss: 0.6688 - val_accuracy: 0.8592\n",
      "Epoch 14/1000\n",
      "36/63 [================>.............] - ETA: 0s - loss: 1.1364 - accuracy: 0.5922\n",
      "Epoch 14: saving model to model/keypoint_classifier\\keypoint_classifier.hdf5\n",
      "63/63 [==============================] - 0s 2ms/step - loss: 1.1380 - accuracy: 0.5944 - val_loss: 0.6431 - val_accuracy: 0.8521\n",
      "Epoch 15/1000\n",
      "37/63 [================>.............] - ETA: 0s - loss: 1.1308 - accuracy: 0.5929\n",
      "Epoch 15: saving model to model/keypoint_classifier\\keypoint_classifier.hdf5\n",
      "63/63 [==============================] - 0s 2ms/step - loss: 1.1150 - accuracy: 0.6041 - val_loss: 0.6239 - val_accuracy: 0.8570\n",
      "Epoch 16/1000\n",
      "38/63 [=================>............] - ETA: 0s - loss: 1.0801 - accuracy: 0.6139\n",
      "Epoch 16: saving model to model/keypoint_classifier\\keypoint_classifier.hdf5\n",
      "63/63 [==============================] - 0s 2ms/step - loss: 1.0871 - accuracy: 0.6129 - val_loss: 0.5991 - val_accuracy: 0.8698\n",
      "Epoch 17/1000\n",
      "36/63 [================>.............] - ETA: 0s - loss: 1.0761 - accuracy: 0.6200\n",
      "Epoch 17: saving model to model/keypoint_classifier\\keypoint_classifier.hdf5\n",
      "63/63 [==============================] - 0s 2ms/step - loss: 1.0696 - accuracy: 0.6211 - val_loss: 0.5783 - val_accuracy: 0.8815\n",
      "Epoch 18/1000\n",
      "38/63 [=================>............] - ETA: 0s - loss: 1.0530 - accuracy: 0.6180\n",
      "Epoch 18: saving model to model/keypoint_classifier\\keypoint_classifier.hdf5\n",
      "63/63 [==============================] - 0s 2ms/step - loss: 1.0505 - accuracy: 0.6205 - val_loss: 0.5597 - val_accuracy: 0.8679\n",
      "Epoch 19/1000\n",
      "38/63 [=================>............] - ETA: 0s - loss: 1.0362 - accuracy: 0.6283\n",
      "Epoch 19: saving model to model/keypoint_classifier\\keypoint_classifier.hdf5\n",
      "63/63 [==============================] - 0s 2ms/step - loss: 1.0293 - accuracy: 0.6300 - val_loss: 0.5389 - val_accuracy: 0.8762\n",
      "Epoch 20/1000\n",
      "36/63 [================>.............] - ETA: 0s - loss: 1.0247 - accuracy: 0.6239\n",
      "Epoch 20: saving model to model/keypoint_classifier\\keypoint_classifier.hdf5\n",
      "63/63 [==============================] - 0s 2ms/step - loss: 1.0119 - accuracy: 0.6311 - val_loss: 0.5219 - val_accuracy: 0.8755\n",
      "Epoch 21/1000\n",
      "39/63 [=================>............] - ETA: 0s - loss: 1.0106 - accuracy: 0.6392\n",
      "Epoch 21: saving model to model/keypoint_classifier\\keypoint_classifier.hdf5\n",
      "63/63 [==============================] - 0s 2ms/step - loss: 1.0131 - accuracy: 0.6369 - val_loss: 0.5132 - val_accuracy: 0.8819\n",
      "Epoch 22/1000\n",
      "37/63 [================>.............] - ETA: 0s - loss: 0.9975 - accuracy: 0.6495\n",
      "Epoch 22: saving model to model/keypoint_classifier\\keypoint_classifier.hdf5\n",
      "63/63 [==============================] - 0s 2ms/step - loss: 0.9926 - accuracy: 0.6451 - val_loss: 0.4981 - val_accuracy: 0.8981\n",
      "Epoch 23/1000\n",
      "37/63 [================>.............] - ETA: 0s - loss: 0.9746 - accuracy: 0.6512\n",
      "Epoch 23: saving model to model/keypoint_classifier\\keypoint_classifier.hdf5\n",
      "63/63 [==============================] - 0s 2ms/step - loss: 0.9695 - accuracy: 0.6523 - val_loss: 0.4804 - val_accuracy: 0.8981\n",
      "Epoch 24/1000\n",
      "39/63 [=================>............] - ETA: 0s - loss: 0.9521 - accuracy: 0.6542\n",
      "Epoch 24: saving model to model/keypoint_classifier\\keypoint_classifier.hdf5\n",
      "63/63 [==============================] - 0s 2ms/step - loss: 0.9687 - accuracy: 0.6523 - val_loss: 0.4710 - val_accuracy: 0.9106\n",
      "Epoch 25/1000\n",
      "39/63 [=================>............] - ETA: 0s - loss: 0.9618 - accuracy: 0.6536\n",
      "Epoch 25: saving model to model/keypoint_classifier\\keypoint_classifier.hdf5\n",
      "63/63 [==============================] - 0s 2ms/step - loss: 0.9478 - accuracy: 0.6582 - val_loss: 0.4660 - val_accuracy: 0.9166\n",
      "Epoch 26/1000\n",
      "36/63 [================>.............] - ETA: 0s - loss: 0.9490 - accuracy: 0.6526\n",
      "Epoch 26: saving model to model/keypoint_classifier\\keypoint_classifier.hdf5\n",
      "63/63 [==============================] - 0s 2ms/step - loss: 0.9484 - accuracy: 0.6600 - val_loss: 0.4516 - val_accuracy: 0.9185\n",
      "Epoch 27/1000\n",
      "38/63 [=================>............] - ETA: 0s - loss: 0.9242 - accuracy: 0.6692\n",
      "Epoch 27: saving model to model/keypoint_classifier\\keypoint_classifier.hdf5\n",
      "63/63 [==============================] - 0s 2ms/step - loss: 0.9307 - accuracy: 0.6651 - val_loss: 0.4328 - val_accuracy: 0.9177\n",
      "Epoch 28/1000\n"
     ]
    },
    {
     "name": "stdout",
     "output_type": "stream",
     "text": [
      "38/63 [=================>............] - ETA: 0s - loss: 0.9426 - accuracy: 0.6680\n",
      "Epoch 28: saving model to model/keypoint_classifier\\keypoint_classifier.hdf5\n",
      "63/63 [==============================] - 0s 2ms/step - loss: 0.9331 - accuracy: 0.6722 - val_loss: 0.4340 - val_accuracy: 0.9279\n",
      "Epoch 29/1000\n",
      "39/63 [=================>............] - ETA: 0s - loss: 0.9192 - accuracy: 0.6657\n",
      "Epoch 29: saving model to model/keypoint_classifier\\keypoint_classifier.hdf5\n",
      "63/63 [==============================] - 0s 2ms/step - loss: 0.9211 - accuracy: 0.6657 - val_loss: 0.4206 - val_accuracy: 0.9211\n",
      "Epoch 30/1000\n",
      "39/63 [=================>............] - ETA: 0s - loss: 0.8986 - accuracy: 0.6723\n",
      "Epoch 30: saving model to model/keypoint_classifier\\keypoint_classifier.hdf5\n",
      "63/63 [==============================] - 0s 2ms/step - loss: 0.9074 - accuracy: 0.6704 - val_loss: 0.4207 - val_accuracy: 0.9343\n",
      "Epoch 31/1000\n",
      "38/63 [=================>............] - ETA: 0s - loss: 0.9000 - accuracy: 0.6776\n",
      "Epoch 31: saving model to model/keypoint_classifier\\keypoint_classifier.hdf5\n",
      "63/63 [==============================] - 0s 2ms/step - loss: 0.8984 - accuracy: 0.6764 - val_loss: 0.4132 - val_accuracy: 0.9309\n",
      "Epoch 32/1000\n",
      "39/63 [=================>............] - ETA: 0s - loss: 0.8829 - accuracy: 0.6861\n",
      "Epoch 32: saving model to model/keypoint_classifier\\keypoint_classifier.hdf5\n",
      "63/63 [==============================] - 0s 2ms/step - loss: 0.8820 - accuracy: 0.6886 - val_loss: 0.4028 - val_accuracy: 0.9302\n",
      "Epoch 33/1000\n",
      "38/63 [=================>............] - ETA: 0s - loss: 0.8869 - accuracy: 0.6867\n",
      "Epoch 33: saving model to model/keypoint_classifier\\keypoint_classifier.hdf5\n",
      "63/63 [==============================] - 0s 2ms/step - loss: 0.8741 - accuracy: 0.6879 - val_loss: 0.3901 - val_accuracy: 0.9317\n",
      "Epoch 34/1000\n",
      "38/63 [=================>............] - ETA: 0s - loss: 0.8996 - accuracy: 0.6692\n",
      "Epoch 34: saving model to model/keypoint_classifier\\keypoint_classifier.hdf5\n",
      "63/63 [==============================] - 0s 2ms/step - loss: 0.8850 - accuracy: 0.6774 - val_loss: 0.3809 - val_accuracy: 0.9343\n",
      "Epoch 35/1000\n",
      "39/63 [=================>............] - ETA: 0s - loss: 0.8574 - accuracy: 0.6939\n",
      "Epoch 35: saving model to model/keypoint_classifier\\keypoint_classifier.hdf5\n",
      "63/63 [==============================] - 0s 2ms/step - loss: 0.8745 - accuracy: 0.6898 - val_loss: 0.3809 - val_accuracy: 0.9430\n",
      "Epoch 36/1000\n",
      "37/63 [================>.............] - ETA: 0s - loss: 0.8757 - accuracy: 0.6911\n",
      "Epoch 36: saving model to model/keypoint_classifier\\keypoint_classifier.hdf5\n",
      "63/63 [==============================] - 0s 2ms/step - loss: 0.8685 - accuracy: 0.6899 - val_loss: 0.3789 - val_accuracy: 0.9347\n",
      "Epoch 37/1000\n",
      "38/63 [=================>............] - ETA: 0s - loss: 0.8497 - accuracy: 0.7007\n",
      "Epoch 37: saving model to model/keypoint_classifier\\keypoint_classifier.hdf5\n",
      "63/63 [==============================] - 0s 2ms/step - loss: 0.8511 - accuracy: 0.7005 - val_loss: 0.3569 - val_accuracy: 0.9419\n",
      "Epoch 38/1000\n",
      "38/63 [=================>............] - ETA: 0s - loss: 0.8571 - accuracy: 0.6980\n",
      "Epoch 38: saving model to model/keypoint_classifier\\keypoint_classifier.hdf5\n",
      "63/63 [==============================] - 0s 2ms/step - loss: 0.8506 - accuracy: 0.6959 - val_loss: 0.3756 - val_accuracy: 0.9317\n",
      "Epoch 39/1000\n",
      "37/63 [================>.............] - ETA: 0s - loss: 0.8604 - accuracy: 0.6888\n",
      "Epoch 39: saving model to model/keypoint_classifier\\keypoint_classifier.hdf5\n",
      "63/63 [==============================] - 0s 2ms/step - loss: 0.8380 - accuracy: 0.6990 - val_loss: 0.3602 - val_accuracy: 0.9385\n",
      "Epoch 40/1000\n",
      "39/63 [=================>............] - ETA: 0s - loss: 0.8499 - accuracy: 0.6945\n",
      "Epoch 40: saving model to model/keypoint_classifier\\keypoint_classifier.hdf5\n",
      "63/63 [==============================] - 0s 2ms/step - loss: 0.8475 - accuracy: 0.6963 - val_loss: 0.3662 - val_accuracy: 0.9442\n",
      "Epoch 41/1000\n",
      "38/63 [=================>............] - ETA: 0s - loss: 0.8369 - accuracy: 0.7011\n",
      "Epoch 41: saving model to model/keypoint_classifier\\keypoint_classifier.hdf5\n",
      "63/63 [==============================] - 0s 2ms/step - loss: 0.8404 - accuracy: 0.7001 - val_loss: 0.3506 - val_accuracy: 0.9475\n",
      "Epoch 42/1000\n",
      "38/63 [=================>............] - ETA: 0s - loss: 0.8185 - accuracy: 0.7035\n",
      "Epoch 42: saving model to model/keypoint_classifier\\keypoint_classifier.hdf5\n",
      "63/63 [==============================] - 0s 2ms/step - loss: 0.8392 - accuracy: 0.6958 - val_loss: 0.3597 - val_accuracy: 0.9389\n",
      "Epoch 43/1000\n",
      "38/63 [=================>............] - ETA: 0s - loss: 0.8134 - accuracy: 0.6998\n",
      "Epoch 43: saving model to model/keypoint_classifier\\keypoint_classifier.hdf5\n",
      "63/63 [==============================] - 0s 2ms/step - loss: 0.8212 - accuracy: 0.7025 - val_loss: 0.3462 - val_accuracy: 0.9513\n",
      "Epoch 44/1000\n",
      "38/63 [=================>............] - ETA: 0s - loss: 0.8087 - accuracy: 0.7031\n",
      "Epoch 44: saving model to model/keypoint_classifier\\keypoint_classifier.hdf5\n",
      "63/63 [==============================] - 0s 2ms/step - loss: 0.8205 - accuracy: 0.7008 - val_loss: 0.3459 - val_accuracy: 0.9442\n",
      "Epoch 45/1000\n",
      "38/63 [=================>............] - ETA: 0s - loss: 0.8248 - accuracy: 0.7120\n",
      "Epoch 45: saving model to model/keypoint_classifier\\keypoint_classifier.hdf5\n",
      "63/63 [==============================] - 0s 2ms/step - loss: 0.8082 - accuracy: 0.7178 - val_loss: 0.3421 - val_accuracy: 0.9423\n",
      "Epoch 46/1000\n",
      "39/63 [=================>............] - ETA: 0s - loss: 0.8002 - accuracy: 0.7198\n",
      "Epoch 46: saving model to model/keypoint_classifier\\keypoint_classifier.hdf5\n",
      "63/63 [==============================] - 0s 2ms/step - loss: 0.7971 - accuracy: 0.7166 - val_loss: 0.3353 - val_accuracy: 0.9460\n",
      "Epoch 47/1000\n",
      "39/63 [=================>............] - ETA: 0s - loss: 0.7799 - accuracy: 0.7200\n",
      "Epoch 47: saving model to model/keypoint_classifier\\keypoint_classifier.hdf5\n",
      "63/63 [==============================] - 0s 2ms/step - loss: 0.7918 - accuracy: 0.7144 - val_loss: 0.3286 - val_accuracy: 0.9442\n",
      "Epoch 48/1000\n",
      "38/63 [=================>............] - ETA: 0s - loss: 0.8044 - accuracy: 0.7163\n",
      "Epoch 48: saving model to model/keypoint_classifier\\keypoint_classifier.hdf5\n",
      "63/63 [==============================] - 0s 2ms/step - loss: 0.8101 - accuracy: 0.7144 - val_loss: 0.3338 - val_accuracy: 0.9509\n",
      "Epoch 49/1000\n",
      "37/63 [================>.............] - ETA: 0s - loss: 0.7868 - accuracy: 0.7173\n",
      "Epoch 49: saving model to model/keypoint_classifier\\keypoint_classifier.hdf5\n",
      "63/63 [==============================] - 0s 2ms/step - loss: 0.7854 - accuracy: 0.7180 - val_loss: 0.3392 - val_accuracy: 0.9408\n",
      "Epoch 50/1000\n",
      "38/63 [=================>............] - ETA: 0s - loss: 0.7741 - accuracy: 0.7173\n",
      "Epoch 50: saving model to model/keypoint_classifier\\keypoint_classifier.hdf5\n",
      "63/63 [==============================] - 0s 2ms/step - loss: 0.7784 - accuracy: 0.7154 - val_loss: 0.3086 - val_accuracy: 0.9566\n",
      "Epoch 51/1000\n",
      "39/63 [=================>............] - ETA: 0s - loss: 0.7879 - accuracy: 0.7196\n",
      "Epoch 51: saving model to model/keypoint_classifier\\keypoint_classifier.hdf5\n",
      "63/63 [==============================] - 0s 2ms/step - loss: 0.7838 - accuracy: 0.7191 - val_loss: 0.3149 - val_accuracy: 0.9468\n",
      "Epoch 52/1000\n",
      "38/63 [=================>............] - ETA: 0s - loss: 0.7772 - accuracy: 0.7150\n",
      "Epoch 52: saving model to model/keypoint_classifier\\keypoint_classifier.hdf5\n",
      "63/63 [==============================] - 0s 2ms/step - loss: 0.7745 - accuracy: 0.7146 - val_loss: 0.3209 - val_accuracy: 0.9506\n",
      "Epoch 53/1000\n",
      "37/63 [================>.............] - ETA: 0s - loss: 0.7728 - accuracy: 0.7194\n",
      "Epoch 53: saving model to model/keypoint_classifier\\keypoint_classifier.hdf5\n",
      "63/63 [==============================] - 0s 2ms/step - loss: 0.7811 - accuracy: 0.7202 - val_loss: 0.3345 - val_accuracy: 0.9445\n",
      "Epoch 54/1000\n",
      "39/63 [=================>............] - ETA: 0s - loss: 0.7599 - accuracy: 0.7214\n",
      "Epoch 54: saving model to model/keypoint_classifier\\keypoint_classifier.hdf5\n",
      "63/63 [==============================] - 0s 2ms/step - loss: 0.7593 - accuracy: 0.7230 - val_loss: 0.3079 - val_accuracy: 0.9547\n",
      "Epoch 55/1000\n"
     ]
    },
    {
     "name": "stdout",
     "output_type": "stream",
     "text": [
      "61/63 [============================>.] - ETA: 0s - loss: 0.7597 - accuracy: 0.7295\n",
      "Epoch 55: saving model to model/keypoint_classifier\\keypoint_classifier.hdf5\n",
      "63/63 [==============================] - 0s 3ms/step - loss: 0.7584 - accuracy: 0.7299 - val_loss: 0.3072 - val_accuracy: 0.9502\n",
      "Epoch 56/1000\n",
      "38/63 [=================>............] - ETA: 0s - loss: 0.7539 - accuracy: 0.7321\n",
      "Epoch 56: saving model to model/keypoint_classifier\\keypoint_classifier.hdf5\n",
      "63/63 [==============================] - 0s 2ms/step - loss: 0.7661 - accuracy: 0.7265 - val_loss: 0.3052 - val_accuracy: 0.9574\n",
      "Epoch 57/1000\n",
      "37/63 [================>.............] - ETA: 0s - loss: 0.7583 - accuracy: 0.7215\n",
      "Epoch 57: saving model to model/keypoint_classifier\\keypoint_classifier.hdf5\n",
      "63/63 [==============================] - 0s 2ms/step - loss: 0.7654 - accuracy: 0.7225 - val_loss: 0.3123 - val_accuracy: 0.9506\n",
      "Epoch 58/1000\n",
      "36/63 [================>.............] - ETA: 0s - loss: 0.7628 - accuracy: 0.7174\n",
      "Epoch 58: saving model to model/keypoint_classifier\\keypoint_classifier.hdf5\n",
      "63/63 [==============================] - 0s 2ms/step - loss: 0.7527 - accuracy: 0.7254 - val_loss: 0.3080 - val_accuracy: 0.9536\n",
      "Epoch 59/1000\n",
      "35/63 [===============>..............] - ETA: 0s - loss: 0.7545 - accuracy: 0.7348\n",
      "Epoch 59: saving model to model/keypoint_classifier\\keypoint_classifier.hdf5\n",
      "63/63 [==============================] - 0s 2ms/step - loss: 0.7501 - accuracy: 0.7324 - val_loss: 0.3010 - val_accuracy: 0.9551\n",
      "Epoch 60/1000\n",
      "55/63 [=========================>....] - ETA: 0s - loss: 0.7425 - accuracy: 0.7349\n",
      "Epoch 60: saving model to model/keypoint_classifier\\keypoint_classifier.hdf5\n",
      "63/63 [==============================] - 0s 3ms/step - loss: 0.7409 - accuracy: 0.7362 - val_loss: 0.2899 - val_accuracy: 0.9611\n",
      "Epoch 61/1000\n",
      "39/63 [=================>............] - ETA: 0s - loss: 0.7415 - accuracy: 0.7384\n",
      "Epoch 61: saving model to model/keypoint_classifier\\keypoint_classifier.hdf5\n",
      "63/63 [==============================] - 0s 2ms/step - loss: 0.7236 - accuracy: 0.7439 - val_loss: 0.3005 - val_accuracy: 0.9525\n",
      "Epoch 62/1000\n",
      "37/63 [================>.............] - ETA: 0s - loss: 0.7383 - accuracy: 0.7276\n",
      "Epoch 62: saving model to model/keypoint_classifier\\keypoint_classifier.hdf5\n",
      "63/63 [==============================] - 0s 3ms/step - loss: 0.7384 - accuracy: 0.7329 - val_loss: 0.2844 - val_accuracy: 0.9589\n",
      "Epoch 63/1000\n",
      "38/63 [=================>............] - ETA: 0s - loss: 0.7260 - accuracy: 0.7362\n",
      "Epoch 63: saving model to model/keypoint_classifier\\keypoint_classifier.hdf5\n",
      "63/63 [==============================] - 0s 2ms/step - loss: 0.7394 - accuracy: 0.7315 - val_loss: 0.3022 - val_accuracy: 0.9581\n",
      "Epoch 64/1000\n",
      "37/63 [================>.............] - ETA: 0s - loss: 0.7570 - accuracy: 0.7306\n",
      "Epoch 64: saving model to model/keypoint_classifier\\keypoint_classifier.hdf5\n",
      "63/63 [==============================] - 0s 2ms/step - loss: 0.7349 - accuracy: 0.7380 - val_loss: 0.3023 - val_accuracy: 0.9532\n",
      "Epoch 65/1000\n",
      "37/63 [================>.............] - ETA: 0s - loss: 0.7399 - accuracy: 0.7350\n",
      "Epoch 65: saving model to model/keypoint_classifier\\keypoint_classifier.hdf5\n",
      "63/63 [==============================] - 0s 2ms/step - loss: 0.7199 - accuracy: 0.7411 - val_loss: 0.2891 - val_accuracy: 0.9623\n",
      "Epoch 66/1000\n",
      "37/63 [================>.............] - ETA: 0s - loss: 0.7044 - accuracy: 0.7454\n",
      "Epoch 66: saving model to model/keypoint_classifier\\keypoint_classifier.hdf5\n",
      "63/63 [==============================] - 0s 2ms/step - loss: 0.7039 - accuracy: 0.7469 - val_loss: 0.2795 - val_accuracy: 0.9660\n",
      "Epoch 67/1000\n",
      "40/63 [==================>...........] - ETA: 0s - loss: 0.7409 - accuracy: 0.7295\n",
      "Epoch 67: saving model to model/keypoint_classifier\\keypoint_classifier.hdf5\n",
      "63/63 [==============================] - 0s 2ms/step - loss: 0.7372 - accuracy: 0.7280 - val_loss: 0.2862 - val_accuracy: 0.9623\n",
      "Epoch 68/1000\n",
      "39/63 [=================>............] - ETA: 0s - loss: 0.7351 - accuracy: 0.7316\n",
      "Epoch 68: saving model to model/keypoint_classifier\\keypoint_classifier.hdf5\n",
      "63/63 [==============================] - 0s 2ms/step - loss: 0.7243 - accuracy: 0.7362 - val_loss: 0.2831 - val_accuracy: 0.9642\n",
      "Epoch 69/1000\n",
      "38/63 [=================>............] - ETA: 0s - loss: 0.7094 - accuracy: 0.7492\n",
      "Epoch 69: saving model to model/keypoint_classifier\\keypoint_classifier.hdf5\n",
      "63/63 [==============================] - 0s 2ms/step - loss: 0.7198 - accuracy: 0.7434 - val_loss: 0.2955 - val_accuracy: 0.9566\n",
      "Epoch 70/1000\n",
      "39/63 [=================>............] - ETA: 0s - loss: 0.7120 - accuracy: 0.7444\n",
      "Epoch 70: saving model to model/keypoint_classifier\\keypoint_classifier.hdf5\n",
      "63/63 [==============================] - 0s 2ms/step - loss: 0.7125 - accuracy: 0.7453 - val_loss: 0.2815 - val_accuracy: 0.9623\n",
      "Epoch 71/1000\n",
      "37/63 [================>.............] - ETA: 0s - loss: 0.7104 - accuracy: 0.7460\n",
      "Epoch 71: saving model to model/keypoint_classifier\\keypoint_classifier.hdf5\n",
      "63/63 [==============================] - 0s 2ms/step - loss: 0.6985 - accuracy: 0.7503 - val_loss: 0.2840 - val_accuracy: 0.9585\n",
      "Epoch 72/1000\n",
      "38/63 [=================>............] - ETA: 0s - loss: 0.7083 - accuracy: 0.7395\n",
      "Epoch 72: saving model to model/keypoint_classifier\\keypoint_classifier.hdf5\n",
      "63/63 [==============================] - 0s 2ms/step - loss: 0.7039 - accuracy: 0.7417 - val_loss: 0.2750 - val_accuracy: 0.9604\n",
      "Epoch 73/1000\n",
      "38/63 [=================>............] - ETA: 0s - loss: 0.6887 - accuracy: 0.7494\n",
      "Epoch 73: saving model to model/keypoint_classifier\\keypoint_classifier.hdf5\n",
      "63/63 [==============================] - 0s 2ms/step - loss: 0.6948 - accuracy: 0.7502 - val_loss: 0.2838 - val_accuracy: 0.9592\n",
      "Epoch 74/1000\n",
      "39/63 [=================>............] - ETA: 0s - loss: 0.7029 - accuracy: 0.7432\n",
      "Epoch 74: saving model to model/keypoint_classifier\\keypoint_classifier.hdf5\n",
      "63/63 [==============================] - 0s 2ms/step - loss: 0.6956 - accuracy: 0.7470 - val_loss: 0.2744 - val_accuracy: 0.9562\n",
      "Epoch 75/1000\n",
      "38/63 [=================>............] - ETA: 0s - loss: 0.6826 - accuracy: 0.7599\n",
      "Epoch 75: saving model to model/keypoint_classifier\\keypoint_classifier.hdf5\n",
      "63/63 [==============================] - 0s 2ms/step - loss: 0.6932 - accuracy: 0.7568 - val_loss: 0.2804 - val_accuracy: 0.9611\n",
      "Epoch 76/1000\n",
      "38/63 [=================>............] - ETA: 0s - loss: 0.6791 - accuracy: 0.7605\n",
      "Epoch 76: saving model to model/keypoint_classifier\\keypoint_classifier.hdf5\n",
      "63/63 [==============================] - 0s 2ms/step - loss: 0.6864 - accuracy: 0.7625 - val_loss: 0.2722 - val_accuracy: 0.9596\n",
      "Epoch 77/1000\n",
      "38/63 [=================>............] - ETA: 0s - loss: 0.6990 - accuracy: 0.7477\n",
      "Epoch 77: saving model to model/keypoint_classifier\\keypoint_classifier.hdf5\n",
      "63/63 [==============================] - 0s 2ms/step - loss: 0.6789 - accuracy: 0.7524 - val_loss: 0.2719 - val_accuracy: 0.9592\n",
      "Epoch 78/1000\n",
      "37/63 [================>.............] - ETA: 0s - loss: 0.6801 - accuracy: 0.7557\n",
      "Epoch 78: saving model to model/keypoint_classifier\\keypoint_classifier.hdf5\n",
      "63/63 [==============================] - 0s 2ms/step - loss: 0.6789 - accuracy: 0.7577 - val_loss: 0.2758 - val_accuracy: 0.9634\n",
      "Epoch 79/1000\n",
      "37/63 [================>.............] - ETA: 0s - loss: 0.6623 - accuracy: 0.7601\n",
      "Epoch 79: saving model to model/keypoint_classifier\\keypoint_classifier.hdf5\n",
      "63/63 [==============================] - 0s 2ms/step - loss: 0.6707 - accuracy: 0.7590 - val_loss: 0.2600 - val_accuracy: 0.9623\n",
      "Epoch 80/1000\n",
      "37/63 [================>.............] - ETA: 0s - loss: 0.6971 - accuracy: 0.7553\n",
      "Epoch 80: saving model to model/keypoint_classifier\\keypoint_classifier.hdf5\n",
      "63/63 [==============================] - 0s 2ms/step - loss: 0.6842 - accuracy: 0.7575 - val_loss: 0.2678 - val_accuracy: 0.9664\n",
      "Epoch 81/1000\n",
      "37/63 [================>.............] - ETA: 0s - loss: 0.6859 - accuracy: 0.7599\n",
      "Epoch 81: saving model to model/keypoint_classifier\\keypoint_classifier.hdf5\n",
      "63/63 [==============================] - 0s 2ms/step - loss: 0.6883 - accuracy: 0.7572 - val_loss: 0.2766 - val_accuracy: 0.9623\n",
      "Epoch 82/1000\n"
     ]
    },
    {
     "name": "stdout",
     "output_type": "stream",
     "text": [
      "36/63 [================>.............] - ETA: 0s - loss: 0.6639 - accuracy: 0.7622\n",
      "Epoch 82: saving model to model/keypoint_classifier\\keypoint_classifier.hdf5\n",
      "63/63 [==============================] - 0s 2ms/step - loss: 0.6742 - accuracy: 0.7601 - val_loss: 0.2752 - val_accuracy: 0.9570\n",
      "Epoch 83/1000\n",
      "38/63 [=================>............] - ETA: 0s - loss: 0.6625 - accuracy: 0.7564\n",
      "Epoch 83: saving model to model/keypoint_classifier\\keypoint_classifier.hdf5\n",
      "63/63 [==============================] - 0s 2ms/step - loss: 0.6700 - accuracy: 0.7547 - val_loss: 0.2639 - val_accuracy: 0.9642\n",
      "Epoch 84/1000\n",
      "38/63 [=================>............] - ETA: 0s - loss: 0.6824 - accuracy: 0.7477\n",
      "Epoch 84: saving model to model/keypoint_classifier\\keypoint_classifier.hdf5\n",
      "63/63 [==============================] - 0s 2ms/step - loss: 0.6772 - accuracy: 0.7537 - val_loss: 0.2797 - val_accuracy: 0.9604\n",
      "Epoch 85/1000\n",
      "37/63 [================>.............] - ETA: 0s - loss: 0.6613 - accuracy: 0.7555\n",
      "Epoch 85: saving model to model/keypoint_classifier\\keypoint_classifier.hdf5\n",
      "63/63 [==============================] - 0s 2ms/step - loss: 0.6609 - accuracy: 0.7556 - val_loss: 0.2667 - val_accuracy: 0.9623\n",
      "Epoch 86/1000\n",
      "36/63 [================>.............] - ETA: 0s - loss: 0.6573 - accuracy: 0.7719\n",
      "Epoch 86: saving model to model/keypoint_classifier\\keypoint_classifier.hdf5\n",
      "63/63 [==============================] - 0s 2ms/step - loss: 0.6525 - accuracy: 0.7690 - val_loss: 0.2702 - val_accuracy: 0.9577\n",
      "Epoch 87/1000\n",
      "37/63 [================>.............] - ETA: 0s - loss: 0.6658 - accuracy: 0.7641\n",
      "Epoch 87: saving model to model/keypoint_classifier\\keypoint_classifier.hdf5\n",
      "63/63 [==============================] - 0s 2ms/step - loss: 0.6565 - accuracy: 0.7666 - val_loss: 0.2581 - val_accuracy: 0.9664\n",
      "Epoch 88/1000\n",
      "34/63 [===============>..............] - ETA: 0s - loss: 0.6397 - accuracy: 0.7693\n",
      "Epoch 88: saving model to model/keypoint_classifier\\keypoint_classifier.hdf5\n",
      "63/63 [==============================] - 0s 2ms/step - loss: 0.6494 - accuracy: 0.7646 - val_loss: 0.2492 - val_accuracy: 0.9694\n",
      "Epoch 89/1000\n",
      "39/63 [=================>............] - ETA: 0s - loss: 0.6724 - accuracy: 0.7538\n",
      "Epoch 89: saving model to model/keypoint_classifier\\keypoint_classifier.hdf5\n",
      "63/63 [==============================] - 0s 2ms/step - loss: 0.6740 - accuracy: 0.7548 - val_loss: 0.2690 - val_accuracy: 0.9638\n",
      "Epoch 90/1000\n",
      "38/63 [=================>............] - ETA: 0s - loss: 0.6661 - accuracy: 0.7603\n",
      "Epoch 90: saving model to model/keypoint_classifier\\keypoint_classifier.hdf5\n",
      "63/63 [==============================] - 0s 2ms/step - loss: 0.6769 - accuracy: 0.7544 - val_loss: 0.2728 - val_accuracy: 0.9649\n",
      "Epoch 91/1000\n",
      "39/63 [=================>............] - ETA: 0s - loss: 0.6595 - accuracy: 0.7666\n",
      "Epoch 91: saving model to model/keypoint_classifier\\keypoint_classifier.hdf5\n",
      "63/63 [==============================] - 0s 2ms/step - loss: 0.6556 - accuracy: 0.7658 - val_loss: 0.2588 - val_accuracy: 0.9626\n",
      "Epoch 92/1000\n",
      "39/63 [=================>............] - ETA: 0s - loss: 0.6682 - accuracy: 0.7588\n",
      "Epoch 92: saving model to model/keypoint_classifier\\keypoint_classifier.hdf5\n",
      "63/63 [==============================] - 0s 2ms/step - loss: 0.6543 - accuracy: 0.7634 - val_loss: 0.2822 - val_accuracy: 0.9543\n",
      "Epoch 93/1000\n",
      "40/63 [==================>...........] - ETA: 0s - loss: 0.6477 - accuracy: 0.7691\n",
      "Epoch 93: saving model to model/keypoint_classifier\\keypoint_classifier.hdf5\n",
      "63/63 [==============================] - 0s 2ms/step - loss: 0.6444 - accuracy: 0.7698 - val_loss: 0.2653 - val_accuracy: 0.9585\n",
      "Epoch 94/1000\n",
      "40/63 [==================>...........] - ETA: 0s - loss: 0.6538 - accuracy: 0.7680\n",
      "Epoch 94: saving model to model/keypoint_classifier\\keypoint_classifier.hdf5\n",
      "63/63 [==============================] - 0s 2ms/step - loss: 0.6473 - accuracy: 0.7694 - val_loss: 0.2642 - val_accuracy: 0.9645\n",
      "Epoch 95/1000\n",
      "38/63 [=================>............] - ETA: 0s - loss: 0.6547 - accuracy: 0.7576\n",
      "Epoch 95: saving model to model/keypoint_classifier\\keypoint_classifier.hdf5\n",
      "63/63 [==============================] - 0s 2ms/step - loss: 0.6548 - accuracy: 0.7575 - val_loss: 0.2723 - val_accuracy: 0.9592\n",
      "Epoch 96/1000\n",
      "39/63 [=================>............] - ETA: 0s - loss: 0.6225 - accuracy: 0.7829\n",
      "Epoch 96: saving model to model/keypoint_classifier\\keypoint_classifier.hdf5\n",
      "63/63 [==============================] - 0s 2ms/step - loss: 0.6353 - accuracy: 0.7754 - val_loss: 0.2819 - val_accuracy: 0.9547\n",
      "Epoch 97/1000\n",
      "39/63 [=================>............] - ETA: 0s - loss: 0.6348 - accuracy: 0.7760\n",
      "Epoch 97: saving model to model/keypoint_classifier\\keypoint_classifier.hdf5\n",
      "63/63 [==============================] - 0s 2ms/step - loss: 0.6278 - accuracy: 0.7754 - val_loss: 0.2617 - val_accuracy: 0.9660\n",
      "Epoch 98/1000\n",
      "41/63 [==================>...........] - ETA: 0s - loss: 0.6320 - accuracy: 0.7761\n",
      "Epoch 98: saving model to model/keypoint_classifier\\keypoint_classifier.hdf5\n",
      "63/63 [==============================] - 0s 2ms/step - loss: 0.6283 - accuracy: 0.7777 - val_loss: 0.2623 - val_accuracy: 0.9630\n",
      "Epoch 99/1000\n",
      "39/63 [=================>............] - ETA: 0s - loss: 0.6594 - accuracy: 0.7706\n",
      "Epoch 99: saving model to model/keypoint_classifier\\keypoint_classifier.hdf5\n",
      "63/63 [==============================] - 0s 2ms/step - loss: 0.6554 - accuracy: 0.7722 - val_loss: 0.2771 - val_accuracy: 0.9577\n",
      "Epoch 100/1000\n",
      "39/63 [=================>............] - ETA: 0s - loss: 0.6187 - accuracy: 0.7790\n",
      "Epoch 100: saving model to model/keypoint_classifier\\keypoint_classifier.hdf5\n",
      "63/63 [==============================] - 0s 2ms/step - loss: 0.6321 - accuracy: 0.7719 - val_loss: 0.2692 - val_accuracy: 0.9562\n",
      "Epoch 101/1000\n",
      "40/63 [==================>...........] - ETA: 0s - loss: 0.6377 - accuracy: 0.7742\n",
      "Epoch 101: saving model to model/keypoint_classifier\\keypoint_classifier.hdf5\n",
      "63/63 [==============================] - 0s 2ms/step - loss: 0.6392 - accuracy: 0.7705 - val_loss: 0.2495 - val_accuracy: 0.9649\n",
      "Epoch 102/1000\n",
      "39/63 [=================>............] - ETA: 0s - loss: 0.6432 - accuracy: 0.7752\n",
      "Epoch 102: saving model to model/keypoint_classifier\\keypoint_classifier.hdf5\n",
      "63/63 [==============================] - 0s 2ms/step - loss: 0.6512 - accuracy: 0.7700 - val_loss: 0.2600 - val_accuracy: 0.9592\n",
      "Epoch 103/1000\n",
      "39/63 [=================>............] - ETA: 0s - loss: 0.6455 - accuracy: 0.7716\n",
      "Epoch 103: saving model to model/keypoint_classifier\\keypoint_classifier.hdf5\n",
      "63/63 [==============================] - 0s 2ms/step - loss: 0.6464 - accuracy: 0.7708 - val_loss: 0.2631 - val_accuracy: 0.9577\n",
      "Epoch 104/1000\n",
      "38/63 [=================>............] - ETA: 0s - loss: 0.6486 - accuracy: 0.7701\n",
      "Epoch 104: saving model to model/keypoint_classifier\\keypoint_classifier.hdf5\n",
      "63/63 [==============================] - 0s 2ms/step - loss: 0.6363 - accuracy: 0.7741 - val_loss: 0.2639 - val_accuracy: 0.9555\n",
      "Epoch 105/1000\n",
      "38/63 [=================>............] - ETA: 0s - loss: 0.6215 - accuracy: 0.7784\n",
      "Epoch 105: saving model to model/keypoint_classifier\\keypoint_classifier.hdf5\n",
      "63/63 [==============================] - 0s 2ms/step - loss: 0.6220 - accuracy: 0.7786 - val_loss: 0.2518 - val_accuracy: 0.9642\n",
      "Epoch 106/1000\n",
      "39/63 [=================>............] - ETA: 0s - loss: 0.6351 - accuracy: 0.7716\n",
      "Epoch 106: saving model to model/keypoint_classifier\\keypoint_classifier.hdf5\n",
      "63/63 [==============================] - 0s 2ms/step - loss: 0.6304 - accuracy: 0.7715 - val_loss: 0.2583 - val_accuracy: 0.9600\n",
      "Epoch 107/1000\n",
      "38/63 [=================>............] - ETA: 0s - loss: 0.6310 - accuracy: 0.7701\n",
      "Epoch 107: saving model to model/keypoint_classifier\\keypoint_classifier.hdf5\n",
      "63/63 [==============================] - 0s 2ms/step - loss: 0.6291 - accuracy: 0.7678 - val_loss: 0.2597 - val_accuracy: 0.9577\n",
      "Epoch 108/1000\n",
      "39/63 [=================>............] - ETA: 0s - loss: 0.6155 - accuracy: 0.7845\n",
      "Epoch 108: saving model to model/keypoint_classifier\\keypoint_classifier.hdf5\n",
      "63/63 [==============================] - 0s 2ms/step - loss: 0.6069 - accuracy: 0.7846 - val_loss: 0.2601 - val_accuracy: 0.9547\n",
      "Epoch 108: early stopping\n"
     ]
    },
    {
     "data": {
      "text/plain": [
       "<keras.callbacks.History at 0x259dd8293d0>"
      ]
     },
     "execution_count": 11,
     "metadata": {},
     "output_type": "execute_result"
    }
   ],
   "source": [
    "model.fit(\n",
    "    X_train,\n",
    "    y_train,\n",
    "    epochs=1000,\n",
    "    batch_size=128,\n",
    "    validation_data=(X_test, y_test),\n",
    "    callbacks=[cp_callback, es_callback]\n",
    ")"
   ]
  },
  {
   "cell_type": "code",
   "execution_count": 12,
   "metadata": {
    "colab": {
     "base_uri": "https://localhost:8080/"
    },
    "id": "pxvb2Y299hE3",
    "outputId": "59eb3185-2e37-4b9e-bc9d-ab1b8ac29b7f"
   },
   "outputs": [
    {
     "name": "stdout",
     "output_type": "stream",
     "text": [
      "21/21 [==============================] - 0s 1ms/step - loss: 0.2601 - accuracy: 0.9547\n"
     ]
    }
   ],
   "source": [
    "# Model evaluation\n",
    "val_loss, val_acc = model.evaluate(X_test, y_test, batch_size=128)"
   ]
  },
  {
   "cell_type": "code",
   "execution_count": 13,
   "metadata": {
    "id": "RBkmDeUW9hE4"
   },
   "outputs": [
    {
     "ename": "UnicodeDecodeError",
     "evalue": "'utf-8' codec can't decode byte 0xfc in position 54: invalid start byte",
     "output_type": "error",
     "traceback": [
      "\u001b[1;31m---------------------------------------------------------------------------\u001b[0m",
      "\u001b[1;31mUnicodeDecodeError\u001b[0m                        Traceback (most recent call last)",
      "Cell \u001b[1;32mIn[13], line 2\u001b[0m\n\u001b[0;32m      1\u001b[0m \u001b[38;5;66;03m# Loading the saved model\u001b[39;00m\n\u001b[1;32m----> 2\u001b[0m model \u001b[38;5;241m=\u001b[39m \u001b[43mtf\u001b[49m\u001b[38;5;241;43m.\u001b[39;49m\u001b[43mkeras\u001b[49m\u001b[38;5;241;43m.\u001b[39;49m\u001b[43mmodels\u001b[49m\u001b[38;5;241;43m.\u001b[39;49m\u001b[43mload_model\u001b[49m\u001b[43m(\u001b[49m\u001b[43mmodel_save_path\u001b[49m\u001b[43m)\u001b[49m\n",
      "File \u001b[1;32mc:\\users\\imran\\appdata\\local\\programs\\python\\python39\\lib\\site-packages\\keras\\saving\\saving_api.py:212\u001b[0m, in \u001b[0;36mload_model\u001b[1;34m(filepath, custom_objects, compile, safe_mode, **kwargs)\u001b[0m\n\u001b[0;32m    204\u001b[0m     \u001b[38;5;28;01mreturn\u001b[39;00m saving_lib\u001b[38;5;241m.\u001b[39mload_model(\n\u001b[0;32m    205\u001b[0m         filepath,\n\u001b[0;32m    206\u001b[0m         custom_objects\u001b[38;5;241m=\u001b[39mcustom_objects,\n\u001b[0;32m    207\u001b[0m         \u001b[38;5;28mcompile\u001b[39m\u001b[38;5;241m=\u001b[39m\u001b[38;5;28mcompile\u001b[39m,\n\u001b[0;32m    208\u001b[0m         safe_mode\u001b[38;5;241m=\u001b[39msafe_mode,\n\u001b[0;32m    209\u001b[0m     )\n\u001b[0;32m    211\u001b[0m \u001b[38;5;66;03m# Legacy case.\u001b[39;00m\n\u001b[1;32m--> 212\u001b[0m \u001b[38;5;28;01mreturn\u001b[39;00m legacy_sm_saving_lib\u001b[38;5;241m.\u001b[39mload_model(\n\u001b[0;32m    213\u001b[0m     filepath, custom_objects\u001b[38;5;241m=\u001b[39mcustom_objects, \u001b[38;5;28mcompile\u001b[39m\u001b[38;5;241m=\u001b[39m\u001b[38;5;28mcompile\u001b[39m, \u001b[38;5;241m*\u001b[39m\u001b[38;5;241m*\u001b[39mkwargs\n\u001b[0;32m    214\u001b[0m )\n",
      "File \u001b[1;32mc:\\users\\imran\\appdata\\local\\programs\\python\\python39\\lib\\site-packages\\keras\\utils\\traceback_utils.py:70\u001b[0m, in \u001b[0;36mfilter_traceback.<locals>.error_handler\u001b[1;34m(*args, **kwargs)\u001b[0m\n\u001b[0;32m     67\u001b[0m     filtered_tb \u001b[38;5;241m=\u001b[39m _process_traceback_frames(e\u001b[38;5;241m.\u001b[39m__traceback__)\n\u001b[0;32m     68\u001b[0m     \u001b[38;5;66;03m# To get the full stack trace, call:\u001b[39;00m\n\u001b[0;32m     69\u001b[0m     \u001b[38;5;66;03m# `tf.debugging.disable_traceback_filtering()`\u001b[39;00m\n\u001b[1;32m---> 70\u001b[0m     \u001b[38;5;28;01mraise\u001b[39;00m e\u001b[38;5;241m.\u001b[39mwith_traceback(filtered_tb) \u001b[38;5;28;01mfrom\u001b[39;00m \u001b[38;5;28mNone\u001b[39m\n\u001b[0;32m     71\u001b[0m \u001b[38;5;28;01mfinally\u001b[39;00m:\n\u001b[0;32m     72\u001b[0m     \u001b[38;5;28;01mdel\u001b[39;00m filtered_tb\n",
      "File \u001b[1;32mc:\\users\\imran\\appdata\\local\\programs\\python\\python39\\lib\\site-packages\\tensorflow\\python\\lib\\io\\file_io.py:703\u001b[0m, in \u001b[0;36mis_directory_v2\u001b[1;34m(path)\u001b[0m\n\u001b[0;32m    694\u001b[0m \u001b[38;5;250m\u001b[39m\u001b[38;5;124;03m\"\"\"Returns whether the path is a directory or not.\u001b[39;00m\n\u001b[0;32m    695\u001b[0m \n\u001b[0;32m    696\u001b[0m \u001b[38;5;124;03mArgs:\u001b[39;00m\n\u001b[1;32m   (...)\u001b[0m\n\u001b[0;32m    700\u001b[0m \u001b[38;5;124;03m  True, if the path is a directory; False otherwise\u001b[39;00m\n\u001b[0;32m    701\u001b[0m \u001b[38;5;124;03m\"\"\"\u001b[39;00m\n\u001b[0;32m    702\u001b[0m \u001b[38;5;28;01mtry\u001b[39;00m:\n\u001b[1;32m--> 703\u001b[0m   \u001b[38;5;28;01mreturn\u001b[39;00m _pywrap_file_io\u001b[38;5;241m.\u001b[39mIsDirectory(compat\u001b[38;5;241m.\u001b[39mpath_to_bytes(path))\n\u001b[0;32m    704\u001b[0m \u001b[38;5;28;01mexcept\u001b[39;00m errors\u001b[38;5;241m.\u001b[39mOpError:\n\u001b[0;32m    705\u001b[0m   \u001b[38;5;28;01mreturn\u001b[39;00m \u001b[38;5;28;01mFalse\u001b[39;00m\n",
      "\u001b[1;31mUnicodeDecodeError\u001b[0m: 'utf-8' codec can't decode byte 0xfc in position 54: invalid start byte"
     ]
    }
   ],
   "source": [
    "# Loading the saved model\n",
    "model = tf.keras.models.load_model(model_save_path)"
   ]
  },
  {
   "cell_type": "code",
   "execution_count": 14,
   "metadata": {
    "colab": {
     "base_uri": "https://localhost:8080/"
    },
    "id": "tFz9Tb0I9hE4",
    "outputId": "1c3b3528-54ae-4ee2-ab04-77429211cbef"
   },
   "outputs": [
    {
     "name": "stdout",
     "output_type": "stream",
     "text": [
      "1/1 [==============================] - 0s 66ms/step\n",
      "[9.2296340e-02 2.8818650e-03 6.8014931e-05 3.7426790e-03 1.2984208e-03\n",
      " 5.7799768e-01 3.0787012e-01 1.4603952e-09 2.3383858e-05 1.8104493e-10\n",
      " 1.3821572e-02]\n",
      "5\n"
     ]
    }
   ],
   "source": [
    "# Inference test\n",
    "predict_result = model.predict(np.array([X_test[0]]))\n",
    "print(np.squeeze(predict_result))\n",
    "print(np.argmax(np.squeeze(predict_result)))"
   ]
  },
  {
   "cell_type": "markdown",
   "metadata": {
    "id": "S3U4yNWx9hE4"
   },
   "source": [
    "# Confusion matrix"
   ]
  },
  {
   "cell_type": "code",
   "execution_count": 15,
   "metadata": {
    "colab": {
     "base_uri": "https://localhost:8080/",
     "height": 582
    },
    "id": "AP1V6SCk9hE5",
    "outputId": "08e41a80-7a4a-4619-8125-ecc371368d19"
   },
   "outputs": [
    {
     "name": "stdout",
     "output_type": "stream",
     "text": [
      "83/83 [==============================] - 0s 738us/step\n"
     ]
    },
    {
     "data": {
      "image/png": "[encoded data removed]",
      "text/plain": [
       "<Figure size 700x600 with 2 Axes>"
      ]
     },
     "metadata": {},
     "output_type": "display_data"
    },
    {
     "name": "stdout",
     "output_type": "stream",
     "text": [
      "Classification Report\n",
      "              precision    recall  f1-score   support\n",
      "\n",
      "           0       0.98      0.92      0.95       518\n",
      "           1       0.99      0.90      0.94       421\n",
      "           2       0.91      0.97      0.94       371\n",
      "           3       0.92      0.98      0.95       219\n",
      "           4       0.98      1.00      0.99       244\n",
      "           5       0.97      0.90      0.93        86\n",
      "           6       0.91      0.95      0.93       163\n",
      "           7       0.90      1.00      0.95       140\n",
      "           8       1.00      1.00      1.00       158\n",
      "           9       1.00      0.97      0.98       127\n",
      "          10       0.95      1.00      0.98       203\n",
      "\n",
      "    accuracy                           0.95      2650\n",
      "   macro avg       0.96      0.96      0.96      2650\n",
      "weighted avg       0.96      0.95      0.95      2650\n",
      "\n"
     ]
    }
   ],
   "source": [
    "import pandas as pd\n",
    "import seaborn as sns\n",
    "import matplotlib.pyplot as plt\n",
    "from sklearn.metrics import confusion_matrix, classification_report\n",
    "\n",
    "def print_confusion_matrix(y_true, y_pred, report=True):\n",
    "    labels = sorted(list(set(y_true)))\n",
    "    cmx_data = confusion_matrix(y_true, y_pred, labels=labels)\n",
    "    \n",
    "    df_cmx = pd.DataFrame(cmx_data, index=labels, columns=labels)\n",
    " \n",
    "    fig, ax = plt.subplots(figsize=(7, 6))\n",
    "    sns.heatmap(df_cmx, annot=True, fmt='g' ,square=False)\n",
    "    ax.set_ylim(len(set(y_true)), 0)\n",
    "    plt.show()\n",
    "    \n",
    "    if report:\n",
    "        print('Classification Report')\n",
    "        print(classification_report(y_test, y_pred))\n",
    "\n",
    "Y_pred = model.predict(X_test)\n",
    "y_pred = np.argmax(Y_pred, axis=1)\n",
    "\n",
    "print_confusion_matrix(y_test, y_pred)"
   ]
  },
  {
   "cell_type": "markdown",
   "metadata": {
    "id": "FNP6aqzc9hE5"
   },
   "source": [
    "# Convert to model for Tensorflow-Lite"
   ]
  },
  {
   "cell_type": "code",
   "execution_count": 16,
   "metadata": {
    "id": "ODjnYyld9hE6"
   },
   "outputs": [],
   "source": [
    "# Save as a model dedicated to inference\n",
    "model.save(model_save_path, include_optimizer=False)"
   ]
  },
  {
   "cell_type": "code",
   "execution_count": 17,
   "metadata": {
    "colab": {
     "base_uri": "https://localhost:8080/"
    },
    "id": "zRfuK8Y59hE6",
    "outputId": "a4ca585c-b5d5-4244-8291-8674063209bb"
   },
   "outputs": [
    {
     "name": "stderr",
     "output_type": "stream",
     "text": [
      "WARNING:absl:Found untraced functions such as _update_step_xla while saving (showing 1 of 1). These functions will not be directly callable after loading.\n"
     ]
    },
    {
     "name": "stdout",
     "output_type": "stream",
     "text": [
      "INFO:tensorflow:Assets written to: C:\\Users\\imran\\AppData\\Local\\Temp\\tmpggwy3ji4\\assets\n"
     ]
    },
    {
     "name": "stderr",
     "output_type": "stream",
     "text": [
      "INFO:tensorflow:Assets written to: C:\\Users\\imran\\AppData\\Local\\Temp\\tmpggwy3ji4\\assets\n"
     ]
    },
    {
     "data": {
      "text/plain": [
       "6744"
      ]
     },
     "execution_count": 17,
     "metadata": {},
     "output_type": "execute_result"
    }
   ],
   "source": [
    "# Transform model (quantization)\n",
    "\n",
    "converter = tf.lite.TFLiteConverter.from_keras_model(model)\n",
    "converter.optimizations = [tf.lite.Optimize.DEFAULT]\n",
    "tflite_quantized_model = converter.convert()\n",
    "\n",
    "open(tflite_save_path, 'wb').write(tflite_quantized_model)"
   ]
  },
  {
   "cell_type": "markdown",
   "metadata": {
    "id": "CHBPBXdx9hE6"
   },
   "source": [
    "# Inference test"
   ]
  },
  {
   "cell_type": "code",
   "execution_count": 18,
   "metadata": {
    "id": "mGAzLocO9hE7"
   },
   "outputs": [],
   "source": [
    "interpreter = tf.lite.Interpreter(model_path=tflite_save_path)\n",
    "interpreter.allocate_tensors()"
   ]
  },
  {
   "cell_type": "code",
   "execution_count": 19,
   "metadata": {
    "id": "oQuDK8YS9hE7"
   },
   "outputs": [],
   "source": [
    "# Get I / O tensor\n",
    "input_details = interpreter.get_input_details()\n",
    "output_details = interpreter.get_output_details()"
   ]
  },
  {
   "cell_type": "code",
   "execution_count": 20,
   "metadata": {
    "id": "2_ixAf_l9hE7"
   },
   "outputs": [],
   "source": [
    "interpreter.set_tensor(input_details[0]['index'], np.array([X_test[0]]))"
   ]
  },
  {
   "cell_type": "code",
   "execution_count": 21,
   "metadata": {
    "colab": {
     "base_uri": "https://localhost:8080/"
    },
    "id": "s4FoAnuc9hE7",
    "outputId": "91f18257-8d8b-4ef3-c558-e9b5f94fabbf",
    "scrolled": true
   },
   "outputs": [
    {
     "name": "stdout",
     "output_type": "stream",
     "text": [
      "CPU times: total: 0 ns\n",
      "Wall time: 3 ms\n"
     ]
    }
   ],
   "source": [
    "%%time\n",
    "# Inference implementation\n",
    "interpreter.invoke()\n",
    "tflite_results = interpreter.get_tensor(output_details[0]['index'])"
   ]
  },
  {
   "cell_type": "code",
   "execution_count": 22,
   "metadata": {
    "colab": {
     "base_uri": "https://localhost:8080/"
    },
    "id": "vONjp19J9hE8",
    "outputId": "77205e24-fd00-42c4-f7b6-e06e527c2cba"
   },
   "outputs": [
    {
     "name": "stdout",
     "output_type": "stream",
     "text": [
      "[9.41281319e-02 2.94028921e-03 6.84912811e-05 3.64218699e-03\n",
      " 1.33001851e-03 5.75184584e-01 3.08960617e-01 1.49955415e-09\n",
      " 2.41014695e-05 1.86818311e-10 1.37216095e-02]\n",
      "5\n"
     ]
    }
   ],
   "source": [
    "print(np.squeeze(tflite_results))\n",
    "print(np.argmax(np.squeeze(tflite_results)))"
   ]
  },
  {
   "cell_type": "code",
   "execution_count": null,
   "metadata": {},
   "outputs": [],
   "source": []
  }
 ],
 "metadata": {
  "accelerator": "GPU",
  "colab": {
   "collapsed_sections": [],
   "name": "keypoint_classification_EN.ipynb",
   "provenance": [],
   "toc_visible": true
  },
  "kernelspec": {
   "display_name": "Python 3 (ipykernel)",
   "language": "python",
   "name": "python3"
  },
  "language_info": {
   "codemirror_mode": {
    "name": "ipython",
    "version": 3
   },
   "file_extension": ".py",
   "mimetype": "text/x-python",
   "name": "python",
   "nbconvert_exporter": "python",
   "pygments_lexer": "ipython3",
   "version": "3.9.6"
  }
 },
 "nbformat": 4,
 "nbformat_minor": 1
}
