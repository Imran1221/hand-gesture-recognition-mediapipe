{
 "cells": [
  {
   "cell_type": "code",
   "execution_count": 1,
   "metadata": {
    "id": "igMyGnjE9hEp"
   },
   "outputs": [],
   "source": [
    "import csv\n",
    "\n",
    "import numpy as np\n",
    "import tensorflow as tf\n",
    "from sklearn.model_selection import train_test_split\n",
    "\n",
    "RANDOM_SEED = 42"
   ]
  },
  {
   "cell_type": "markdown",
   "metadata": {
    "id": "t2HDvhIu9hEr"
   },
   "source": [
    "# Specify each path"
   ]
  },
  {
   "cell_type": "code",
   "execution_count": 2,
   "metadata": {
    "id": "9NvZP2Zn9hEy"
   },
   "outputs": [],
   "source": [
    "dataset = 'model/keypoint_classifier/keypoint.csv'\n",
    "model_save_path = 'model/keypoint_classifier/keypoint_classifier.hdf5'\n",
    "tflite_save_path = 'model/keypoint_classifier/keypoint_classifier.tflite'"
   ]
  },
  {
   "cell_type": "markdown",
   "metadata": {
    "id": "s5oMH7x19hEz"
   },
   "source": [
    "# Set number of classes"
   ]
  },
  {
   "cell_type": "code",
   "execution_count": 3,
   "metadata": {
    "id": "du4kodXL9hEz"
   },
   "outputs": [],
   "source": [
    "NUM_CLASSES = 12"
   ]
  },
  {
   "cell_type": "markdown",
   "metadata": {
    "id": "XjnL0uso9hEz"
   },
   "source": [
    "# Dataset reading"
   ]
  },
  {
   "cell_type": "code",
   "execution_count": 4,
   "metadata": {
    "id": "QT5ZqtEz9hE0"
   },
   "outputs": [],
   "source": [
    "X_dataset = np.loadtxt(dataset, delimiter=',', dtype='float32', usecols=list(range(1, (21 * 2) + 1)))"
   ]
  },
  {
   "cell_type": "code",
   "execution_count": 5,
   "metadata": {
    "id": "QmoKFsp49hE0"
   },
   "outputs": [],
   "source": [
    "y_dataset = np.loadtxt(dataset, delimiter=',', dtype='int32', usecols=(0))"
   ]
  },
  {
   "cell_type": "code",
   "execution_count": 6,
   "metadata": {
    "id": "xQU7JTZ_9hE0"
   },
   "outputs": [],
   "source": [
    "X_train, X_test, y_train, y_test = train_test_split(X_dataset, y_dataset, train_size=0.75, random_state=RANDOM_SEED)"
   ]
  },
  {
   "cell_type": "markdown",
   "metadata": {
    "id": "mxK_lETT9hE0"
   },
   "source": [
    "# Model building"
   ]
  },
  {
   "cell_type": "code",
   "execution_count": 7,
   "metadata": {
    "id": "vHBmUf1t9hE1"
   },
   "outputs": [],
   "source": [
    "model = tf.keras.models.Sequential([\n",
    "    tf.keras.layers.Input((21 * 2, )),\n",
    "    tf.keras.layers.Dropout(0.2),\n",
    "    tf.keras.layers.Dense(40, activation='relu'),\n",
    "    tf.keras.layers.Dropout(0.4),\n",
    "    tf.keras.layers.Dense(30, activation='relu'),\n",
    "    tf.keras.layers.Dense(NUM_CLASSES, activation='softmax')\n",
    "])"
   ]
  },
  {
   "cell_type": "code",
   "execution_count": 8,
   "metadata": {
    "colab": {
     "base_uri": "https://localhost:8080/"
    },
    "id": "ypqky9tc9hE1",
    "outputId": "5db082bb-30e3-4110-bf63-a1ee777ecd46"
   },
   "outputs": [
    {
     "name": "stdout",
     "output_type": "stream",
     "text": [
      "Model: \"sequential\"\n",
      "_________________________________________________________________\n",
      " Layer (type)                Output Shape              Param #   \n",
      "=================================================================\n",
      " dropout (Dropout)           (None, 42)                0         \n",
      "                                                                 \n",
      " dense (Dense)               (None, 40)                1720      \n",
      "                                                                 \n",
      " dropout_1 (Dropout)         (None, 40)                0         \n",
      "                                                                 \n",
      " dense_1 (Dense)             (None, 30)                1230      \n",
      "                                                                 \n",
      " dense_2 (Dense)             (None, 12)                372       \n",
      "                                                                 \n",
      "=================================================================\n",
      "Total params: 3,322\n",
      "Trainable params: 3,322\n",
      "Non-trainable params: 0\n",
      "_________________________________________________________________\n"
     ]
    }
   ],
   "source": [
    "model.summary()  # tf.keras.utils.plot_model(model, show_shapes=True)"
   ]
  },
  {
   "cell_type": "code",
   "execution_count": 9,
   "metadata": {
    "id": "MbMjOflQ9hE1"
   },
   "outputs": [],
   "source": [
    "# Model checkpoint callback\n",
    "cp_callback = tf.keras.callbacks.ModelCheckpoint(\n",
    "    model_save_path, verbose=1, save_weights_only=False)\n",
    "# Callback for early stopping\n",
    "es_callback = tf.keras.callbacks.EarlyStopping(patience=20, verbose=1)"
   ]
  },
  {
   "cell_type": "code",
   "execution_count": 10,
   "metadata": {
    "id": "c3Dac0M_9hE2"
   },
   "outputs": [],
   "source": [
    "# Model compilation\n",
    "model.compile(\n",
    "    optimizer='adam',\n",
    "    loss='sparse_categorical_crossentropy',\n",
    "    metrics=['accuracy']\n",
    ")"
   ]
  },
  {
   "cell_type": "markdown",
   "metadata": {
    "id": "7XI0j1Iu9hE2"
   },
   "source": [
    "# Model training"
   ]
  },
  {
   "cell_type": "code",
   "execution_count": 11,
   "metadata": {
    "colab": {
     "base_uri": "https://localhost:8080/"
    },
    "id": "WirBl-JE9hE3",
    "outputId": "71b30ca2-8294-4d9d-8aa2-800d90d399de",
    "scrolled": true
   },
   "outputs": [
    {
     "name": "stdout",
     "output_type": "stream",
     "text": [
      "Epoch 1/1000\n",
      "32/61 [==============>...............] - ETA: 0s - loss: 2.4272 - accuracy: 0.1423 \n",
      "Epoch 1: saving model to model/keypoint_classifier\\keypoint_classifier.hdf5\n",
      "61/61 [==============================] - 1s 5ms/step - loss: 2.3179 - accuracy: 0.1910 - val_loss: 2.0152 - val_accuracy: 0.3839\n",
      "Epoch 2/1000\n",
      "35/61 [================>.............] - ETA: 0s - loss: 2.0000 - accuracy: 0.3167\n",
      "Epoch 2: saving model to model/keypoint_classifier\\keypoint_classifier.hdf5\n",
      "61/61 [==============================] - 0s 3ms/step - loss: 1.9369 - accuracy: 0.3412 - val_loss: 1.6368 - val_accuracy: 0.5595\n",
      "Epoch 3/1000\n",
      "34/61 [===============>..............] - ETA: 0s - loss: 1.7510 - accuracy: 0.4322\n",
      "Epoch 3: saving model to model/keypoint_classifier\\keypoint_classifier.hdf5\n",
      "61/61 [==============================] - 0s 3ms/step - loss: 1.6941 - accuracy: 0.4526 - val_loss: 1.3326 - val_accuracy: 0.5801\n",
      "Epoch 4/1000\n",
      "35/61 [================>.............] - ETA: 0s - loss: 1.5120 - accuracy: 0.5100\n",
      "Epoch 4: saving model to model/keypoint_classifier\\keypoint_classifier.hdf5\n",
      "61/61 [==============================] - 0s 2ms/step - loss: 1.4846 - accuracy: 0.5175 - val_loss: 1.1071 - val_accuracy: 0.7290\n",
      "Epoch 5/1000\n",
      "34/61 [===============>..............] - ETA: 0s - loss: 1.3971 - accuracy: 0.5294\n",
      "Epoch 5: saving model to model/keypoint_classifier\\keypoint_classifier.hdf5\n",
      "61/61 [==============================] - 0s 2ms/step - loss: 1.3677 - accuracy: 0.5448 - val_loss: 0.9730 - val_accuracy: 0.7441\n",
      "Epoch 6/1000\n",
      "36/61 [================>.............] - ETA: 0s - loss: 1.2728 - accuracy: 0.5720\n",
      "Epoch 6: saving model to model/keypoint_classifier\\keypoint_classifier.hdf5\n",
      "61/61 [==============================] - 0s 2ms/step - loss: 1.2586 - accuracy: 0.5776 - val_loss: 0.8663 - val_accuracy: 0.7631\n",
      "Epoch 7/1000\n",
      "39/61 [==================>...........] - ETA: 0s - loss: 1.2171 - accuracy: 0.5905\n",
      "Epoch 7: saving model to model/keypoint_classifier\\keypoint_classifier.hdf5\n",
      "61/61 [==============================] - 0s 2ms/step - loss: 1.2049 - accuracy: 0.5916 - val_loss: 0.8049 - val_accuracy: 0.7739\n",
      "Epoch 8/1000\n",
      "40/61 [==================>...........] - ETA: 0s - loss: 1.1605 - accuracy: 0.6070\n",
      "Epoch 8: saving model to model/keypoint_classifier\\keypoint_classifier.hdf5\n",
      "61/61 [==============================] - 0s 2ms/step - loss: 1.1580 - accuracy: 0.6062 - val_loss: 0.7585 - val_accuracy: 0.7906\n",
      "Epoch 9/1000\n",
      "38/61 [=================>............] - ETA: 0s - loss: 1.0994 - accuracy: 0.6252\n",
      "Epoch 9: saving model to model/keypoint_classifier\\keypoint_classifier.hdf5\n",
      "61/61 [==============================] - 0s 2ms/step - loss: 1.0984 - accuracy: 0.6207 - val_loss: 0.7144 - val_accuracy: 0.7922\n",
      "Epoch 10/1000\n",
      "39/61 [==================>...........] - ETA: 0s - loss: 1.0960 - accuracy: 0.6226\n",
      "Epoch 10: saving model to model/keypoint_classifier\\keypoint_classifier.hdf5\n",
      "61/61 [==============================] - 0s 2ms/step - loss: 1.0768 - accuracy: 0.6299 - val_loss: 0.6843 - val_accuracy: 0.8038\n",
      "Epoch 11/1000\n",
      "37/61 [=================>............] - ETA: 0s - loss: 1.0638 - accuracy: 0.6360\n",
      "Epoch 11: saving model to model/keypoint_classifier\\keypoint_classifier.hdf5\n",
      "61/61 [==============================] - 0s 2ms/step - loss: 1.0568 - accuracy: 0.6381 - val_loss: 0.6473 - val_accuracy: 0.8150\n",
      "Epoch 12/1000\n",
      "37/61 [=================>............] - ETA: 0s - loss: 1.0206 - accuracy: 0.6457\n",
      "Epoch 12: saving model to model/keypoint_classifier\\keypoint_classifier.hdf5\n",
      "61/61 [==============================] - 0s 2ms/step - loss: 1.0175 - accuracy: 0.6493 - val_loss: 0.6191 - val_accuracy: 0.8158\n",
      "Epoch 13/1000\n",
      "38/61 [=================>............] - ETA: 0s - loss: 0.9664 - accuracy: 0.6519\n",
      "Epoch 13: saving model to model/keypoint_classifier\\keypoint_classifier.hdf5\n",
      "61/61 [==============================] - 0s 2ms/step - loss: 0.9841 - accuracy: 0.6491 - val_loss: 0.5993 - val_accuracy: 0.8181\n",
      "Epoch 14/1000\n",
      "37/61 [=================>............] - ETA: 0s - loss: 0.9954 - accuracy: 0.6476\n",
      "Epoch 14: saving model to model/keypoint_classifier\\keypoint_classifier.hdf5\n",
      "61/61 [==============================] - 0s 2ms/step - loss: 0.9782 - accuracy: 0.6516 - val_loss: 0.5746 - val_accuracy: 0.8577\n",
      "Epoch 15/1000\n",
      "38/61 [=================>............] - ETA: 0s - loss: 0.9617 - accuracy: 0.6688\n",
      "Epoch 15: saving model to model/keypoint_classifier\\keypoint_classifier.hdf5\n",
      "61/61 [==============================] - 0s 2ms/step - loss: 0.9515 - accuracy: 0.6675 - val_loss: 0.5533 - val_accuracy: 0.8519\n",
      "Epoch 16/1000\n",
      "59/61 [============================>.] - ETA: 0s - loss: 0.9305 - accuracy: 0.6686\n",
      "Epoch 16: saving model to model/keypoint_classifier\\keypoint_classifier.hdf5\n",
      "61/61 [==============================] - 0s 3ms/step - loss: 0.9331 - accuracy: 0.6685 - val_loss: 0.5458 - val_accuracy: 0.8507\n",
      "Epoch 17/1000\n",
      "33/61 [===============>..............] - ETA: 0s - loss: 0.9351 - accuracy: 0.6626\n",
      "Epoch 17: saving model to model/keypoint_classifier\\keypoint_classifier.hdf5\n",
      "61/61 [==============================] - 0s 3ms/step - loss: 0.9193 - accuracy: 0.6756 - val_loss: 0.5266 - val_accuracy: 0.8686\n",
      "Epoch 18/1000\n",
      "38/61 [=================>............] - ETA: 0s - loss: 0.8695 - accuracy: 0.6871\n",
      "Epoch 18: saving model to model/keypoint_classifier\\keypoint_classifier.hdf5\n",
      "61/61 [==============================] - 0s 2ms/step - loss: 0.8970 - accuracy: 0.6786 - val_loss: 0.4956 - val_accuracy: 0.8817\n",
      "Epoch 19/1000\n",
      "36/61 [================>.............] - ETA: 0s - loss: 0.9095 - accuracy: 0.6766\n",
      "Epoch 19: saving model to model/keypoint_classifier\\keypoint_classifier.hdf5\n",
      "61/61 [==============================] - 0s 3ms/step - loss: 0.9012 - accuracy: 0.6822 - val_loss: 0.4939 - val_accuracy: 0.8658\n",
      "Epoch 20/1000\n",
      "37/61 [=================>............] - ETA: 0s - loss: 0.8875 - accuracy: 0.6816\n",
      "Epoch 20: saving model to model/keypoint_classifier\\keypoint_classifier.hdf5\n",
      "61/61 [==============================] - 0s 2ms/step - loss: 0.8736 - accuracy: 0.6915 - val_loss: 0.4789 - val_accuracy: 0.8736\n",
      "Epoch 21/1000\n",
      "38/61 [=================>............] - ETA: 0s - loss: 0.8561 - accuracy: 0.6947\n",
      "Epoch 21: saving model to model/keypoint_classifier\\keypoint_classifier.hdf5\n",
      "61/61 [==============================] - 0s 2ms/step - loss: 0.8614 - accuracy: 0.6908 - val_loss: 0.4580 - val_accuracy: 0.8670\n",
      "Epoch 22/1000\n",
      "61/61 [==============================] - ETA: 0s - loss: 0.8564 - accuracy: 0.6918\n",
      "Epoch 22: saving model to model/keypoint_classifier\\keypoint_classifier.hdf5\n",
      "61/61 [==============================] - 0s 3ms/step - loss: 0.8564 - accuracy: 0.6918 - val_loss: 0.4463 - val_accuracy: 0.8949\n",
      "Epoch 23/1000\n",
      "35/61 [================>.............] - ETA: 0s - loss: 0.8197 - accuracy: 0.7134\n",
      "Epoch 23: saving model to model/keypoint_classifier\\keypoint_classifier.hdf5\n",
      "61/61 [==============================] - 0s 2ms/step - loss: 0.8285 - accuracy: 0.7036 - val_loss: 0.4441 - val_accuracy: 0.8806\n",
      "Epoch 24/1000\n",
      "39/61 [==================>...........] - ETA: 0s - loss: 0.8266 - accuracy: 0.7049\n",
      "Epoch 24: saving model to model/keypoint_classifier\\keypoint_classifier.hdf5\n",
      "61/61 [==============================] - 0s 2ms/step - loss: 0.8311 - accuracy: 0.7007 - val_loss: 0.4298 - val_accuracy: 0.8945\n",
      "Epoch 25/1000\n",
      "33/61 [===============>..............] - ETA: 0s - loss: 0.8300 - accuracy: 0.7055\n",
      "Epoch 25: saving model to model/keypoint_classifier\\keypoint_classifier.hdf5\n",
      "61/61 [==============================] - 0s 3ms/step - loss: 0.8233 - accuracy: 0.7087 - val_loss: 0.4170 - val_accuracy: 0.8899\n",
      "Epoch 26/1000\n",
      "34/61 [===============>..............] - ETA: 0s - loss: 0.7761 - accuracy: 0.7183\n",
      "Epoch 26: saving model to model/keypoint_classifier\\keypoint_classifier.hdf5\n",
      "61/61 [==============================] - 0s 3ms/step - loss: 0.7873 - accuracy: 0.7130 - val_loss: 0.4026 - val_accuracy: 0.9147\n",
      "Epoch 27/1000\n",
      "36/61 [================>.............] - ETA: 0s - loss: 0.7915 - accuracy: 0.7129\n",
      "Epoch 27: saving model to model/keypoint_classifier\\keypoint_classifier.hdf5\n",
      "61/61 [==============================] - 0s 2ms/step - loss: 0.7917 - accuracy: 0.7152 - val_loss: 0.3862 - val_accuracy: 0.9248\n",
      "Epoch 28/1000\n"
     ]
    },
    {
     "name": "stdout",
     "output_type": "stream",
     "text": [
      "39/61 [==================>...........] - ETA: 0s - loss: 0.7795 - accuracy: 0.7236\n",
      "Epoch 28: saving model to model/keypoint_classifier\\keypoint_classifier.hdf5\n",
      "61/61 [==============================] - 0s 2ms/step - loss: 0.7783 - accuracy: 0.7198 - val_loss: 0.3799 - val_accuracy: 0.9190\n",
      "Epoch 29/1000\n",
      "37/61 [=================>............] - ETA: 0s - loss: 0.7626 - accuracy: 0.7327\n",
      "Epoch 29: saving model to model/keypoint_classifier\\keypoint_classifier.hdf5\n",
      "61/61 [==============================] - 0s 2ms/step - loss: 0.7611 - accuracy: 0.7267 - val_loss: 0.3690 - val_accuracy: 0.9287\n",
      "Epoch 30/1000\n",
      "37/61 [=================>............] - ETA: 0s - loss: 0.7859 - accuracy: 0.7173\n",
      "Epoch 30: saving model to model/keypoint_classifier\\keypoint_classifier.hdf5\n",
      "61/61 [==============================] - 0s 2ms/step - loss: 0.7702 - accuracy: 0.7229 - val_loss: 0.3506 - val_accuracy: 0.9321\n",
      "Epoch 31/1000\n",
      "39/61 [==================>...........] - ETA: 0s - loss: 0.7493 - accuracy: 0.7314\n",
      "Epoch 31: saving model to model/keypoint_classifier\\keypoint_classifier.hdf5\n",
      "61/61 [==============================] - 0s 2ms/step - loss: 0.7420 - accuracy: 0.7306 - val_loss: 0.3433 - val_accuracy: 0.9139\n",
      "Epoch 32/1000\n",
      "59/61 [============================>.] - ETA: 0s - loss: 0.7442 - accuracy: 0.7280\n",
      "Epoch 32: saving model to model/keypoint_classifier\\keypoint_classifier.hdf5\n",
      "61/61 [==============================] - 0s 3ms/step - loss: 0.7427 - accuracy: 0.7285 - val_loss: 0.3452 - val_accuracy: 0.9461\n",
      "Epoch 33/1000\n",
      "59/61 [============================>.] - ETA: 0s - loss: 0.7278 - accuracy: 0.7401\n",
      "Epoch 33: saving model to model/keypoint_classifier\\keypoint_classifier.hdf5\n",
      "61/61 [==============================] - 0s 3ms/step - loss: 0.7302 - accuracy: 0.7400 - val_loss: 0.3370 - val_accuracy: 0.9477\n",
      "Epoch 34/1000\n",
      "60/61 [============================>.] - ETA: 0s - loss: 0.7198 - accuracy: 0.7402\n",
      "Epoch 34: saving model to model/keypoint_classifier\\keypoint_classifier.hdf5\n",
      "61/61 [==============================] - 0s 3ms/step - loss: 0.7207 - accuracy: 0.7398 - val_loss: 0.3219 - val_accuracy: 0.9415\n",
      "Epoch 35/1000\n",
      "37/61 [=================>............] - ETA: 0s - loss: 0.7183 - accuracy: 0.7388\n",
      "Epoch 35: saving model to model/keypoint_classifier\\keypoint_classifier.hdf5\n",
      "61/61 [==============================] - 0s 2ms/step - loss: 0.7215 - accuracy: 0.7405 - val_loss: 0.3207 - val_accuracy: 0.9469\n",
      "Epoch 36/1000\n",
      "37/61 [=================>............] - ETA: 0s - loss: 0.6852 - accuracy: 0.7572\n",
      "Epoch 36: saving model to model/keypoint_classifier\\keypoint_classifier.hdf5\n",
      "61/61 [==============================] - 0s 2ms/step - loss: 0.6960 - accuracy: 0.7527 - val_loss: 0.3074 - val_accuracy: 0.9647\n",
      "Epoch 37/1000\n",
      "37/61 [=================>............] - ETA: 0s - loss: 0.7081 - accuracy: 0.7496\n",
      "Epoch 37: saving model to model/keypoint_classifier\\keypoint_classifier.hdf5\n",
      "61/61 [==============================] - 0s 2ms/step - loss: 0.6983 - accuracy: 0.7514 - val_loss: 0.2891 - val_accuracy: 0.9500\n",
      "Epoch 38/1000\n",
      "32/61 [==============>...............] - ETA: 0s - loss: 0.6961 - accuracy: 0.7549\n",
      "Epoch 38: saving model to model/keypoint_classifier\\keypoint_classifier.hdf5\n",
      "61/61 [==============================] - 0s 3ms/step - loss: 0.6794 - accuracy: 0.7571 - val_loss: 0.2888 - val_accuracy: 0.9705\n",
      "Epoch 39/1000\n",
      "34/61 [===============>..............] - ETA: 0s - loss: 0.6936 - accuracy: 0.7578\n",
      "Epoch 39: saving model to model/keypoint_classifier\\keypoint_classifier.hdf5\n",
      "61/61 [==============================] - 0s 2ms/step - loss: 0.6911 - accuracy: 0.7579 - val_loss: 0.2902 - val_accuracy: 0.9643\n",
      "Epoch 40/1000\n",
      "36/61 [================>.............] - ETA: 0s - loss: 0.6962 - accuracy: 0.7476\n",
      "Epoch 40: saving model to model/keypoint_classifier\\keypoint_classifier.hdf5\n",
      "61/61 [==============================] - 0s 2ms/step - loss: 0.6904 - accuracy: 0.7520 - val_loss: 0.2769 - val_accuracy: 0.9705\n",
      "Epoch 41/1000\n",
      "36/61 [================>.............] - ETA: 0s - loss: 0.6823 - accuracy: 0.7543\n",
      "Epoch 41: saving model to model/keypoint_classifier\\keypoint_classifier.hdf5\n",
      "61/61 [==============================] - 0s 2ms/step - loss: 0.6678 - accuracy: 0.7588 - val_loss: 0.2752 - val_accuracy: 0.9686\n",
      "Epoch 42/1000\n",
      "38/61 [=================>............] - ETA: 0s - loss: 0.6435 - accuracy: 0.7738\n",
      "Epoch 42: saving model to model/keypoint_classifier\\keypoint_classifier.hdf5\n",
      "61/61 [==============================] - 0s 2ms/step - loss: 0.6557 - accuracy: 0.7659 - val_loss: 0.2688 - val_accuracy: 0.9729\n",
      "Epoch 43/1000\n",
      "37/61 [=================>............] - ETA: 0s - loss: 0.6609 - accuracy: 0.7614\n",
      "Epoch 43: saving model to model/keypoint_classifier\\keypoint_classifier.hdf5\n",
      "61/61 [==============================] - 0s 2ms/step - loss: 0.6591 - accuracy: 0.7621 - val_loss: 0.2697 - val_accuracy: 0.9678\n",
      "Epoch 44/1000\n",
      "37/61 [=================>............] - ETA: 0s - loss: 0.6635 - accuracy: 0.7614\n",
      "Epoch 44: saving model to model/keypoint_classifier\\keypoint_classifier.hdf5\n",
      "61/61 [==============================] - 0s 2ms/step - loss: 0.6573 - accuracy: 0.7651 - val_loss: 0.2677 - val_accuracy: 0.9721\n",
      "Epoch 45/1000\n",
      "37/61 [=================>............] - ETA: 0s - loss: 0.6375 - accuracy: 0.7720\n",
      "Epoch 45: saving model to model/keypoint_classifier\\keypoint_classifier.hdf5\n",
      "61/61 [==============================] - 0s 2ms/step - loss: 0.6387 - accuracy: 0.7722 - val_loss: 0.2532 - val_accuracy: 0.9709\n",
      "Epoch 46/1000\n",
      "37/61 [=================>............] - ETA: 0s - loss: 0.6356 - accuracy: 0.7741\n",
      "Epoch 46: saving model to model/keypoint_classifier\\keypoint_classifier.hdf5\n",
      "61/61 [==============================] - 0s 2ms/step - loss: 0.6403 - accuracy: 0.7695 - val_loss: 0.2578 - val_accuracy: 0.9698\n",
      "Epoch 47/1000\n",
      "36/61 [================>.............] - ETA: 0s - loss: 0.6437 - accuracy: 0.7721\n",
      "Epoch 47: saving model to model/keypoint_classifier\\keypoint_classifier.hdf5\n",
      "61/61 [==============================] - 0s 2ms/step - loss: 0.6478 - accuracy: 0.7699 - val_loss: 0.2501 - val_accuracy: 0.9732\n",
      "Epoch 48/1000\n",
      "37/61 [=================>............] - ETA: 0s - loss: 0.6123 - accuracy: 0.7851\n",
      "Epoch 48: saving model to model/keypoint_classifier\\keypoint_classifier.hdf5\n",
      "61/61 [==============================] - 0s 2ms/step - loss: 0.6137 - accuracy: 0.7844 - val_loss: 0.2492 - val_accuracy: 0.9698\n",
      "Epoch 49/1000\n",
      "34/61 [===============>..............] - ETA: 0s - loss: 0.6349 - accuracy: 0.7778\n",
      "Epoch 49: saving model to model/keypoint_classifier\\keypoint_classifier.hdf5\n",
      "61/61 [==============================] - 0s 3ms/step - loss: 0.6344 - accuracy: 0.7743 - val_loss: 0.2410 - val_accuracy: 0.9732\n",
      "Epoch 50/1000\n",
      "34/61 [===============>..............] - ETA: 0s - loss: 0.6237 - accuracy: 0.7767\n",
      "Epoch 50: saving model to model/keypoint_classifier\\keypoint_classifier.hdf5\n",
      "61/61 [==============================] - 0s 2ms/step - loss: 0.6182 - accuracy: 0.7792 - val_loss: 0.2372 - val_accuracy: 0.9732\n",
      "Epoch 51/1000\n",
      "34/61 [===============>..............] - ETA: 0s - loss: 0.6000 - accuracy: 0.7852\n",
      "Epoch 51: saving model to model/keypoint_classifier\\keypoint_classifier.hdf5\n",
      "61/61 [==============================] - 0s 3ms/step - loss: 0.6206 - accuracy: 0.7779 - val_loss: 0.2398 - val_accuracy: 0.9744\n",
      "Epoch 52/1000\n",
      "30/61 [=============>................] - ETA: 0s - loss: 0.6042 - accuracy: 0.7836\n",
      "Epoch 52: saving model to model/keypoint_classifier\\keypoint_classifier.hdf5\n",
      "61/61 [==============================] - 0s 2ms/step - loss: 0.6066 - accuracy: 0.7835 - val_loss: 0.2369 - val_accuracy: 0.9748\n",
      "Epoch 53/1000\n",
      "37/61 [=================>............] - ETA: 0s - loss: 0.6133 - accuracy: 0.7857\n",
      "Epoch 53: saving model to model/keypoint_classifier\\keypoint_classifier.hdf5\n",
      "61/61 [==============================] - 0s 2ms/step - loss: 0.6147 - accuracy: 0.7825 - val_loss: 0.2302 - val_accuracy: 0.9736\n",
      "Epoch 54/1000\n",
      "29/61 [=============>................] - ETA: 0s - loss: 0.6020 - accuracy: 0.7831\n",
      "Epoch 54: saving model to model/keypoint_classifier\\keypoint_classifier.hdf5\n",
      "61/61 [==============================] - 0s 2ms/step - loss: 0.6204 - accuracy: 0.7756 - val_loss: 0.2329 - val_accuracy: 0.9740\n",
      "Epoch 55/1000\n"
     ]
    },
    {
     "name": "stdout",
     "output_type": "stream",
     "text": [
      "40/61 [==================>...........] - ETA: 0s - loss: 0.5934 - accuracy: 0.7891\n",
      "Epoch 55: saving model to model/keypoint_classifier\\keypoint_classifier.hdf5\n",
      "61/61 [==============================] - 0s 2ms/step - loss: 0.6088 - accuracy: 0.7824 - val_loss: 0.2324 - val_accuracy: 0.9763\n",
      "Epoch 56/1000\n",
      "38/61 [=================>............] - ETA: 0s - loss: 0.5990 - accuracy: 0.7784\n",
      "Epoch 56: saving model to model/keypoint_classifier\\keypoint_classifier.hdf5\n",
      "61/61 [==============================] - 0s 2ms/step - loss: 0.6001 - accuracy: 0.7827 - val_loss: 0.2316 - val_accuracy: 0.9763\n",
      "Epoch 57/1000\n",
      "39/61 [==================>...........] - ETA: 0s - loss: 0.5859 - accuracy: 0.7937\n",
      "Epoch 57: saving model to model/keypoint_classifier\\keypoint_classifier.hdf5\n",
      "61/61 [==============================] - 0s 2ms/step - loss: 0.5957 - accuracy: 0.7890 - val_loss: 0.2202 - val_accuracy: 0.9756\n",
      "Epoch 58/1000\n",
      "37/61 [=================>............] - ETA: 0s - loss: 0.6114 - accuracy: 0.7810\n",
      "Epoch 58: saving model to model/keypoint_classifier\\keypoint_classifier.hdf5\n",
      "61/61 [==============================] - 0s 2ms/step - loss: 0.5944 - accuracy: 0.7871 - val_loss: 0.2160 - val_accuracy: 0.9763\n",
      "Epoch 59/1000\n",
      "37/61 [=================>............] - ETA: 0s - loss: 0.5916 - accuracy: 0.7851\n",
      "Epoch 59: saving model to model/keypoint_classifier\\keypoint_classifier.hdf5\n",
      "61/61 [==============================] - 0s 2ms/step - loss: 0.5871 - accuracy: 0.7868 - val_loss: 0.2298 - val_accuracy: 0.9740\n",
      "Epoch 60/1000\n",
      "37/61 [=================>............] - ETA: 0s - loss: 0.5725 - accuracy: 0.7905\n",
      "Epoch 60: saving model to model/keypoint_classifier\\keypoint_classifier.hdf5\n",
      "61/61 [==============================] - 0s 2ms/step - loss: 0.5799 - accuracy: 0.7849 - val_loss: 0.2252 - val_accuracy: 0.9756\n",
      "Epoch 61/1000\n",
      "37/61 [=================>............] - ETA: 0s - loss: 0.5727 - accuracy: 0.7977\n",
      "Epoch 61: saving model to model/keypoint_classifier\\keypoint_classifier.hdf5\n",
      "61/61 [==============================] - 0s 2ms/step - loss: 0.5756 - accuracy: 0.7984 - val_loss: 0.2210 - val_accuracy: 0.9794\n",
      "Epoch 62/1000\n",
      "40/61 [==================>...........] - ETA: 0s - loss: 0.5825 - accuracy: 0.7871\n",
      "Epoch 62: saving model to model/keypoint_classifier\\keypoint_classifier.hdf5\n",
      "61/61 [==============================] - 0s 2ms/step - loss: 0.5885 - accuracy: 0.7840 - val_loss: 0.2204 - val_accuracy: 0.9756\n",
      "Epoch 63/1000\n",
      "38/61 [=================>............] - ETA: 0s - loss: 0.5849 - accuracy: 0.7895\n",
      "Epoch 63: saving model to model/keypoint_classifier\\keypoint_classifier.hdf5\n",
      "61/61 [==============================] - 0s 2ms/step - loss: 0.5841 - accuracy: 0.7913 - val_loss: 0.2178 - val_accuracy: 0.9760\n",
      "Epoch 64/1000\n",
      "38/61 [=================>............] - ETA: 0s - loss: 0.5757 - accuracy: 0.7905\n",
      "Epoch 64: saving model to model/keypoint_classifier\\keypoint_classifier.hdf5\n",
      "61/61 [==============================] - 0s 2ms/step - loss: 0.5758 - accuracy: 0.7902 - val_loss: 0.2135 - val_accuracy: 0.9756\n",
      "Epoch 65/1000\n",
      "36/61 [================>.............] - ETA: 0s - loss: 0.5814 - accuracy: 0.7873\n",
      "Epoch 65: saving model to model/keypoint_classifier\\keypoint_classifier.hdf5\n",
      "61/61 [==============================] - 0s 2ms/step - loss: 0.5761 - accuracy: 0.7891 - val_loss: 0.2079 - val_accuracy: 0.9717\n",
      "Epoch 66/1000\n",
      "38/61 [=================>............] - ETA: 0s - loss: 0.5811 - accuracy: 0.7926\n",
      "Epoch 66: saving model to model/keypoint_classifier\\keypoint_classifier.hdf5\n",
      "61/61 [==============================] - 0s 2ms/step - loss: 0.5925 - accuracy: 0.7915 - val_loss: 0.2232 - val_accuracy: 0.9771\n",
      "Epoch 67/1000\n",
      "39/61 [==================>...........] - ETA: 0s - loss: 0.5660 - accuracy: 0.8009\n",
      "Epoch 67: saving model to model/keypoint_classifier\\keypoint_classifier.hdf5\n",
      "61/61 [==============================] - 0s 2ms/step - loss: 0.5638 - accuracy: 0.7990 - val_loss: 0.2081 - val_accuracy: 0.9783\n",
      "Epoch 68/1000\n",
      "36/61 [================>.............] - ETA: 0s - loss: 0.5564 - accuracy: 0.7949\n",
      "Epoch 68: saving model to model/keypoint_classifier\\keypoint_classifier.hdf5\n",
      "61/61 [==============================] - 0s 2ms/step - loss: 0.5652 - accuracy: 0.7963 - val_loss: 0.2078 - val_accuracy: 0.9771\n",
      "Epoch 69/1000\n",
      "40/61 [==================>...........] - ETA: 0s - loss: 0.5669 - accuracy: 0.7977\n",
      "Epoch 69: saving model to model/keypoint_classifier\\keypoint_classifier.hdf5\n",
      "61/61 [==============================] - 0s 2ms/step - loss: 0.5683 - accuracy: 0.7977 - val_loss: 0.2125 - val_accuracy: 0.9767\n",
      "Epoch 70/1000\n",
      "36/61 [================>.............] - ETA: 0s - loss: 0.5517 - accuracy: 0.8001\n",
      "Epoch 70: saving model to model/keypoint_classifier\\keypoint_classifier.hdf5\n",
      "61/61 [==============================] - 0s 2ms/step - loss: 0.5558 - accuracy: 0.7997 - val_loss: 0.2065 - val_accuracy: 0.9763\n",
      "Epoch 71/1000\n",
      "38/61 [=================>............] - ETA: 0s - loss: 0.5698 - accuracy: 0.7911\n",
      "Epoch 71: saving model to model/keypoint_classifier\\keypoint_classifier.hdf5\n",
      "61/61 [==============================] - 0s 2ms/step - loss: 0.5572 - accuracy: 0.7995 - val_loss: 0.2080 - val_accuracy: 0.9775\n",
      "Epoch 72/1000\n",
      "38/61 [=================>............] - ETA: 0s - loss: 0.5524 - accuracy: 0.8088\n",
      "Epoch 72: saving model to model/keypoint_classifier\\keypoint_classifier.hdf5\n",
      "61/61 [==============================] - 0s 2ms/step - loss: 0.5571 - accuracy: 0.8036 - val_loss: 0.2106 - val_accuracy: 0.9783\n",
      "Epoch 73/1000\n",
      "39/61 [==================>...........] - ETA: 0s - loss: 0.5505 - accuracy: 0.8029\n",
      "Epoch 73: saving model to model/keypoint_classifier\\keypoint_classifier.hdf5\n",
      "61/61 [==============================] - 0s 2ms/step - loss: 0.5514 - accuracy: 0.8030 - val_loss: 0.2054 - val_accuracy: 0.9775\n",
      "Epoch 74/1000\n",
      "39/61 [==================>...........] - ETA: 0s - loss: 0.5317 - accuracy: 0.8047\n",
      "Epoch 74: saving model to model/keypoint_classifier\\keypoint_classifier.hdf5\n",
      "61/61 [==============================] - 0s 2ms/step - loss: 0.5478 - accuracy: 0.8025 - val_loss: 0.2010 - val_accuracy: 0.9814\n",
      "Epoch 75/1000\n",
      "38/61 [=================>............] - ETA: 0s - loss: 0.5419 - accuracy: 0.8024\n",
      "Epoch 75: saving model to model/keypoint_classifier\\keypoint_classifier.hdf5\n",
      "61/61 [==============================] - 0s 2ms/step - loss: 0.5481 - accuracy: 0.8040 - val_loss: 0.2017 - val_accuracy: 0.9822\n",
      "Epoch 76/1000\n",
      "39/61 [==================>...........] - ETA: 0s - loss: 0.5469 - accuracy: 0.8065\n",
      "Epoch 76: saving model to model/keypoint_classifier\\keypoint_classifier.hdf5\n",
      "61/61 [==============================] - 0s 2ms/step - loss: 0.5583 - accuracy: 0.8022 - val_loss: 0.1994 - val_accuracy: 0.9771\n",
      "Epoch 77/1000\n",
      "40/61 [==================>...........] - ETA: 0s - loss: 0.5362 - accuracy: 0.8057\n",
      "Epoch 77: saving model to model/keypoint_classifier\\keypoint_classifier.hdf5\n",
      "61/61 [==============================] - 0s 2ms/step - loss: 0.5452 - accuracy: 0.8039 - val_loss: 0.1969 - val_accuracy: 0.9814\n",
      "Epoch 78/1000\n",
      "41/61 [===================>..........] - ETA: 0s - loss: 0.5445 - accuracy: 0.8056\n",
      "Epoch 78: saving model to model/keypoint_classifier\\keypoint_classifier.hdf5\n",
      "61/61 [==============================] - 0s 2ms/step - loss: 0.5509 - accuracy: 0.8030 - val_loss: 0.1975 - val_accuracy: 0.9787\n",
      "Epoch 79/1000\n",
      "37/61 [=================>............] - ETA: 0s - loss: 0.5306 - accuracy: 0.8112\n",
      "Epoch 79: saving model to model/keypoint_classifier\\keypoint_classifier.hdf5\n",
      "61/61 [==============================] - 0s 2ms/step - loss: 0.5390 - accuracy: 0.8090 - val_loss: 0.1962 - val_accuracy: 0.9794\n",
      "Epoch 80/1000\n",
      "38/61 [=================>............] - ETA: 0s - loss: 0.5438 - accuracy: 0.8022\n",
      "Epoch 80: saving model to model/keypoint_classifier\\keypoint_classifier.hdf5\n",
      "61/61 [==============================] - 0s 2ms/step - loss: 0.5489 - accuracy: 0.8034 - val_loss: 0.1984 - val_accuracy: 0.9802\n",
      "Epoch 81/1000\n",
      "39/61 [==================>...........] - ETA: 0s - loss: 0.5399 - accuracy: 0.8057\n",
      "Epoch 81: saving model to model/keypoint_classifier\\keypoint_classifier.hdf5\n",
      "61/61 [==============================] - 0s 2ms/step - loss: 0.5380 - accuracy: 0.8054 - val_loss: 0.1936 - val_accuracy: 0.9787\n",
      "Epoch 82/1000\n"
     ]
    },
    {
     "name": "stdout",
     "output_type": "stream",
     "text": [
      "38/61 [=================>............] - ETA: 0s - loss: 0.5396 - accuracy: 0.8094\n",
      "Epoch 82: saving model to model/keypoint_classifier\\keypoint_classifier.hdf5\n",
      "61/61 [==============================] - 0s 2ms/step - loss: 0.5318 - accuracy: 0.8105 - val_loss: 0.1940 - val_accuracy: 0.9767\n",
      "Epoch 83/1000\n",
      "39/61 [==================>...........] - ETA: 0s - loss: 0.5500 - accuracy: 0.8011\n",
      "Epoch 83: saving model to model/keypoint_classifier\\keypoint_classifier.hdf5\n",
      "61/61 [==============================] - 0s 2ms/step - loss: 0.5454 - accuracy: 0.8028 - val_loss: 0.1994 - val_accuracy: 0.9822\n",
      "Epoch 84/1000\n",
      "37/61 [=================>............] - ETA: 0s - loss: 0.5037 - accuracy: 0.8209\n",
      "Epoch 84: saving model to model/keypoint_classifier\\keypoint_classifier.hdf5\n",
      "61/61 [==============================] - 0s 2ms/step - loss: 0.5338 - accuracy: 0.8081 - val_loss: 0.1994 - val_accuracy: 0.9822\n",
      "Epoch 85/1000\n",
      "39/61 [==================>...........] - ETA: 0s - loss: 0.5417 - accuracy: 0.8093\n",
      "Epoch 85: saving model to model/keypoint_classifier\\keypoint_classifier.hdf5\n",
      "61/61 [==============================] - 0s 2ms/step - loss: 0.5300 - accuracy: 0.8128 - val_loss: 0.1889 - val_accuracy: 0.9791\n",
      "Epoch 86/1000\n",
      "38/61 [=================>............] - ETA: 0s - loss: 0.5151 - accuracy: 0.8129\n",
      "Epoch 86: saving model to model/keypoint_classifier\\keypoint_classifier.hdf5\n",
      "61/61 [==============================] - 0s 2ms/step - loss: 0.5145 - accuracy: 0.8105 - val_loss: 0.1926 - val_accuracy: 0.9794\n",
      "Epoch 87/1000\n",
      "36/61 [================>.............] - ETA: 0s - loss: 0.5169 - accuracy: 0.8116\n",
      "Epoch 87: saving model to model/keypoint_classifier\\keypoint_classifier.hdf5\n",
      "61/61 [==============================] - 0s 2ms/step - loss: 0.5216 - accuracy: 0.8134 - val_loss: 0.2107 - val_accuracy: 0.9760\n",
      "Epoch 88/1000\n",
      "37/61 [=================>............] - ETA: 0s - loss: 0.5382 - accuracy: 0.8041\n",
      "Epoch 88: saving model to model/keypoint_classifier\\keypoint_classifier.hdf5\n",
      "61/61 [==============================] - 0s 2ms/step - loss: 0.5346 - accuracy: 0.8071 - val_loss: 0.2007 - val_accuracy: 0.9779\n",
      "Epoch 89/1000\n",
      "37/61 [=================>............] - ETA: 0s - loss: 0.5223 - accuracy: 0.8199\n",
      "Epoch 89: saving model to model/keypoint_classifier\\keypoint_classifier.hdf5\n",
      "61/61 [==============================] - 0s 2ms/step - loss: 0.5211 - accuracy: 0.8178 - val_loss: 0.1793 - val_accuracy: 0.9837\n",
      "Epoch 90/1000\n",
      "37/61 [=================>............] - ETA: 0s - loss: 0.5310 - accuracy: 0.8100\n",
      "Epoch 90: saving model to model/keypoint_classifier\\keypoint_classifier.hdf5\n",
      "61/61 [==============================] - 0s 2ms/step - loss: 0.5254 - accuracy: 0.8112 - val_loss: 0.1909 - val_accuracy: 0.9798\n",
      "Epoch 91/1000\n",
      "39/61 [==================>...........] - ETA: 0s - loss: 0.5141 - accuracy: 0.8161\n",
      "Epoch 91: saving model to model/keypoint_classifier\\keypoint_classifier.hdf5\n",
      "61/61 [==============================] - 0s 2ms/step - loss: 0.5154 - accuracy: 0.8131 - val_loss: 0.1885 - val_accuracy: 0.9806\n",
      "Epoch 92/1000\n",
      "35/61 [================>.............] - ETA: 0s - loss: 0.5213 - accuracy: 0.8152\n",
      "Epoch 92: saving model to model/keypoint_classifier\\keypoint_classifier.hdf5\n",
      "61/61 [==============================] - 0s 2ms/step - loss: 0.5260 - accuracy: 0.8138 - val_loss: 0.1954 - val_accuracy: 0.9791\n",
      "Epoch 93/1000\n",
      "42/61 [===================>..........] - ETA: 0s - loss: 0.5065 - accuracy: 0.8168\n",
      "Epoch 93: saving model to model/keypoint_classifier\\keypoint_classifier.hdf5\n",
      "61/61 [==============================] - 0s 2ms/step - loss: 0.5176 - accuracy: 0.8123 - val_loss: 0.1801 - val_accuracy: 0.9798\n",
      "Epoch 94/1000\n",
      "39/61 [==================>...........] - ETA: 0s - loss: 0.5219 - accuracy: 0.8099\n",
      "Epoch 94: saving model to model/keypoint_classifier\\keypoint_classifier.hdf5\n",
      "61/61 [==============================] - 0s 2ms/step - loss: 0.5193 - accuracy: 0.8151 - val_loss: 0.1837 - val_accuracy: 0.9833\n",
      "Epoch 95/1000\n",
      "40/61 [==================>...........] - ETA: 0s - loss: 0.5155 - accuracy: 0.8148\n",
      "Epoch 95: saving model to model/keypoint_classifier\\keypoint_classifier.hdf5\n",
      "61/61 [==============================] - 0s 2ms/step - loss: 0.5179 - accuracy: 0.8150 - val_loss: 0.1871 - val_accuracy: 0.9822\n",
      "Epoch 96/1000\n",
      "38/61 [=================>............] - ETA: 0s - loss: 0.5356 - accuracy: 0.8106\n",
      "Epoch 96: saving model to model/keypoint_classifier\\keypoint_classifier.hdf5\n",
      "61/61 [==============================] - 0s 2ms/step - loss: 0.5216 - accuracy: 0.8145 - val_loss: 0.1856 - val_accuracy: 0.9783\n",
      "Epoch 97/1000\n",
      "37/61 [=================>............] - ETA: 0s - loss: 0.5226 - accuracy: 0.8087\n",
      "Epoch 97: saving model to model/keypoint_classifier\\keypoint_classifier.hdf5\n",
      "61/61 [==============================] - 0s 2ms/step - loss: 0.5199 - accuracy: 0.8120 - val_loss: 0.1998 - val_accuracy: 0.9791\n",
      "Epoch 98/1000\n",
      "38/61 [=================>............] - ETA: 0s - loss: 0.5168 - accuracy: 0.8178\n",
      "Epoch 98: saving model to model/keypoint_classifier\\keypoint_classifier.hdf5\n",
      "61/61 [==============================] - 0s 2ms/step - loss: 0.5166 - accuracy: 0.8154 - val_loss: 0.1897 - val_accuracy: 0.9829\n",
      "Epoch 99/1000\n",
      "30/61 [=============>................] - ETA: 0s - loss: 0.5194 - accuracy: 0.8117\n",
      "Epoch 99: saving model to model/keypoint_classifier\\keypoint_classifier.hdf5\n",
      "61/61 [==============================] - 0s 3ms/step - loss: 0.5141 - accuracy: 0.8138 - val_loss: 0.2077 - val_accuracy: 0.9748\n",
      "Epoch 100/1000\n",
      "39/61 [==================>...........] - ETA: 0s - loss: 0.4999 - accuracy: 0.8235\n",
      "Epoch 100: saving model to model/keypoint_classifier\\keypoint_classifier.hdf5\n",
      "61/61 [==============================] - 0s 2ms/step - loss: 0.5086 - accuracy: 0.8204 - val_loss: 0.2004 - val_accuracy: 0.9810\n",
      "Epoch 101/1000\n",
      "38/61 [=================>............] - ETA: 0s - loss: 0.5112 - accuracy: 0.8156\n",
      "Epoch 101: saving model to model/keypoint_classifier\\keypoint_classifier.hdf5\n",
      "61/61 [==============================] - 0s 2ms/step - loss: 0.5134 - accuracy: 0.8142 - val_loss: 0.1968 - val_accuracy: 0.9791\n",
      "Epoch 102/1000\n",
      "35/61 [================>.............] - ETA: 0s - loss: 0.5166 - accuracy: 0.8127\n",
      "Epoch 102: saving model to model/keypoint_classifier\\keypoint_classifier.hdf5\n",
      "61/61 [==============================] - 0s 2ms/step - loss: 0.5109 - accuracy: 0.8134 - val_loss: 0.1760 - val_accuracy: 0.9826\n",
      "Epoch 103/1000\n",
      "37/61 [=================>............] - ETA: 0s - loss: 0.4986 - accuracy: 0.8247\n",
      "Epoch 103: saving model to model/keypoint_classifier\\keypoint_classifier.hdf5\n",
      "61/61 [==============================] - 0s 2ms/step - loss: 0.4989 - accuracy: 0.8211 - val_loss: 0.1849 - val_accuracy: 0.9822\n",
      "Epoch 104/1000\n",
      "38/61 [=================>............] - ETA: 0s - loss: 0.5034 - accuracy: 0.8183\n",
      "Epoch 104: saving model to model/keypoint_classifier\\keypoint_classifier.hdf5\n",
      "61/61 [==============================] - 0s 2ms/step - loss: 0.5034 - accuracy: 0.8189 - val_loss: 0.1778 - val_accuracy: 0.9829\n",
      "Epoch 105/1000\n",
      "38/61 [=================>............] - ETA: 0s - loss: 0.4958 - accuracy: 0.8232\n",
      "Epoch 105: saving model to model/keypoint_classifier\\keypoint_classifier.hdf5\n",
      "61/61 [==============================] - 0s 2ms/step - loss: 0.4937 - accuracy: 0.8246 - val_loss: 0.1767 - val_accuracy: 0.9802\n",
      "Epoch 106/1000\n",
      "37/61 [=================>............] - ETA: 0s - loss: 0.5139 - accuracy: 0.8171\n",
      "Epoch 106: saving model to model/keypoint_classifier\\keypoint_classifier.hdf5\n",
      "61/61 [==============================] - 0s 2ms/step - loss: 0.5191 - accuracy: 0.8158 - val_loss: 0.1766 - val_accuracy: 0.9826\n",
      "Epoch 107/1000\n",
      "36/61 [================>.............] - ETA: 0s - loss: 0.4977 - accuracy: 0.8238\n",
      "Epoch 107: saving model to model/keypoint_classifier\\keypoint_classifier.hdf5\n",
      "61/61 [==============================] - 0s 2ms/step - loss: 0.4944 - accuracy: 0.8221 - val_loss: 0.1850 - val_accuracy: 0.9853\n",
      "Epoch 108/1000\n",
      "38/61 [=================>............] - ETA: 0s - loss: 0.5157 - accuracy: 0.8084\n",
      "Epoch 108: saving model to model/keypoint_classifier\\keypoint_classifier.hdf5\n",
      "61/61 [==============================] - 0s 2ms/step - loss: 0.5072 - accuracy: 0.8122 - val_loss: 0.1883 - val_accuracy: 0.9791\n",
      "Epoch 109/1000\n"
     ]
    },
    {
     "name": "stdout",
     "output_type": "stream",
     "text": [
      "36/61 [================>.............] - ETA: 0s - loss: 0.4963 - accuracy: 0.8218\n",
      "Epoch 109: saving model to model/keypoint_classifier\\keypoint_classifier.hdf5\n",
      "61/61 [==============================] - 0s 2ms/step - loss: 0.4983 - accuracy: 0.8235 - val_loss: 0.1860 - val_accuracy: 0.9826\n",
      "Epoch 110/1000\n",
      "38/61 [=================>............] - ETA: 0s - loss: 0.4948 - accuracy: 0.8252\n",
      "Epoch 110: saving model to model/keypoint_classifier\\keypoint_classifier.hdf5\n",
      "61/61 [==============================] - 0s 2ms/step - loss: 0.4966 - accuracy: 0.8257 - val_loss: 0.1745 - val_accuracy: 0.9853\n",
      "Epoch 111/1000\n",
      "38/61 [=================>............] - ETA: 0s - loss: 0.4717 - accuracy: 0.8261\n",
      "Epoch 111: saving model to model/keypoint_classifier\\keypoint_classifier.hdf5\n",
      "61/61 [==============================] - 0s 2ms/step - loss: 0.4911 - accuracy: 0.8202 - val_loss: 0.1774 - val_accuracy: 0.9845\n",
      "Epoch 112/1000\n",
      "40/61 [==================>...........] - ETA: 0s - loss: 0.4948 - accuracy: 0.8199\n",
      "Epoch 112: saving model to model/keypoint_classifier\\keypoint_classifier.hdf5\n",
      "61/61 [==============================] - 0s 2ms/step - loss: 0.5017 - accuracy: 0.8197 - val_loss: 0.1818 - val_accuracy: 0.9791\n",
      "Epoch 113/1000\n",
      "39/61 [==================>...........] - ETA: 0s - loss: 0.4975 - accuracy: 0.8211\n",
      "Epoch 113: saving model to model/keypoint_classifier\\keypoint_classifier.hdf5\n",
      "61/61 [==============================] - 0s 2ms/step - loss: 0.5004 - accuracy: 0.8235 - val_loss: 0.1774 - val_accuracy: 0.9806\n",
      "Epoch 114/1000\n",
      "39/61 [==================>...........] - ETA: 0s - loss: 0.4771 - accuracy: 0.8253\n",
      "Epoch 114: saving model to model/keypoint_classifier\\keypoint_classifier.hdf5\n",
      "61/61 [==============================] - 0s 2ms/step - loss: 0.4850 - accuracy: 0.8239 - val_loss: 0.1781 - val_accuracy: 0.9841\n",
      "Epoch 115/1000\n",
      "39/61 [==================>...........] - ETA: 0s - loss: 0.5185 - accuracy: 0.8163\n",
      "Epoch 115: saving model to model/keypoint_classifier\\keypoint_classifier.hdf5\n",
      "61/61 [==============================] - 0s 2ms/step - loss: 0.5144 - accuracy: 0.8185 - val_loss: 0.1986 - val_accuracy: 0.9810\n",
      "Epoch 116/1000\n",
      "39/61 [==================>...........] - ETA: 0s - loss: 0.4960 - accuracy: 0.8209\n",
      "Epoch 116: saving model to model/keypoint_classifier\\keypoint_classifier.hdf5\n",
      "61/61 [==============================] - 0s 2ms/step - loss: 0.4900 - accuracy: 0.8248 - val_loss: 0.1772 - val_accuracy: 0.9814\n",
      "Epoch 117/1000\n",
      "37/61 [=================>............] - ETA: 0s - loss: 0.4911 - accuracy: 0.8235\n",
      "Epoch 117: saving model to model/keypoint_classifier\\keypoint_classifier.hdf5\n",
      "61/61 [==============================] - 0s 2ms/step - loss: 0.4837 - accuracy: 0.8248 - val_loss: 0.1804 - val_accuracy: 0.9814\n",
      "Epoch 118/1000\n",
      "39/61 [==================>...........] - ETA: 0s - loss: 0.4829 - accuracy: 0.8299\n",
      "Epoch 118: saving model to model/keypoint_classifier\\keypoint_classifier.hdf5\n",
      "61/61 [==============================] - 0s 2ms/step - loss: 0.4988 - accuracy: 0.8252 - val_loss: 0.1801 - val_accuracy: 0.9849\n",
      "Epoch 119/1000\n",
      "39/61 [==================>...........] - ETA: 0s - loss: 0.4947 - accuracy: 0.8161\n",
      "Epoch 119: saving model to model/keypoint_classifier\\keypoint_classifier.hdf5\n",
      "61/61 [==============================] - 0s 2ms/step - loss: 0.4906 - accuracy: 0.8215 - val_loss: 0.1830 - val_accuracy: 0.9818\n",
      "Epoch 120/1000\n",
      "38/61 [=================>............] - ETA: 0s - loss: 0.4726 - accuracy: 0.8285\n",
      "Epoch 120: saving model to model/keypoint_classifier\\keypoint_classifier.hdf5\n",
      "61/61 [==============================] - 0s 2ms/step - loss: 0.4841 - accuracy: 0.8252 - val_loss: 0.1846 - val_accuracy: 0.9822\n",
      "Epoch 121/1000\n",
      "38/61 [=================>............] - ETA: 0s - loss: 0.4846 - accuracy: 0.8244\n",
      "Epoch 121: saving model to model/keypoint_classifier\\keypoint_classifier.hdf5\n",
      "61/61 [==============================] - 0s 2ms/step - loss: 0.4844 - accuracy: 0.8275 - val_loss: 0.1757 - val_accuracy: 0.9806\n",
      "Epoch 122/1000\n",
      "37/61 [=================>............] - ETA: 0s - loss: 0.4760 - accuracy: 0.8290\n",
      "Epoch 122: saving model to model/keypoint_classifier\\keypoint_classifier.hdf5\n",
      "61/61 [==============================] - 0s 2ms/step - loss: 0.4819 - accuracy: 0.8277 - val_loss: 0.1880 - val_accuracy: 0.9822\n",
      "Epoch 123/1000\n",
      "39/61 [==================>...........] - ETA: 0s - loss: 0.4996 - accuracy: 0.8217\n",
      "Epoch 123: saving model to model/keypoint_classifier\\keypoint_classifier.hdf5\n",
      "61/61 [==============================] - 0s 2ms/step - loss: 0.5055 - accuracy: 0.8216 - val_loss: 0.1891 - val_accuracy: 0.9826\n",
      "Epoch 124/1000\n",
      "37/61 [=================>............] - ETA: 0s - loss: 0.5018 - accuracy: 0.8262\n",
      "Epoch 124: saving model to model/keypoint_classifier\\keypoint_classifier.hdf5\n",
      "61/61 [==============================] - 0s 2ms/step - loss: 0.4861 - accuracy: 0.8283 - val_loss: 0.1841 - val_accuracy: 0.9845\n",
      "Epoch 125/1000\n",
      "37/61 [=================>............] - ETA: 0s - loss: 0.4987 - accuracy: 0.8241\n",
      "Epoch 125: saving model to model/keypoint_classifier\\keypoint_classifier.hdf5\n",
      "61/61 [==============================] - 0s 2ms/step - loss: 0.4978 - accuracy: 0.8230 - val_loss: 0.1848 - val_accuracy: 0.9767\n",
      "Epoch 126/1000\n",
      "38/61 [=================>............] - ETA: 0s - loss: 0.4847 - accuracy: 0.8302\n",
      "Epoch 126: saving model to model/keypoint_classifier\\keypoint_classifier.hdf5\n",
      "61/61 [==============================] - 0s 2ms/step - loss: 0.4828 - accuracy: 0.8299 - val_loss: 0.1782 - val_accuracy: 0.9845\n",
      "Epoch 127/1000\n",
      "35/61 [================>.............] - ETA: 0s - loss: 0.4814 - accuracy: 0.8288\n",
      "Epoch 127: saving model to model/keypoint_classifier\\keypoint_classifier.hdf5\n",
      "61/61 [==============================] - 0s 2ms/step - loss: 0.4865 - accuracy: 0.8278 - val_loss: 0.1759 - val_accuracy: 0.9810\n",
      "Epoch 128/1000\n",
      "38/61 [=================>............] - ETA: 0s - loss: 0.4777 - accuracy: 0.8331\n",
      "Epoch 128: saving model to model/keypoint_classifier\\keypoint_classifier.hdf5\n",
      "61/61 [==============================] - 0s 2ms/step - loss: 0.4821 - accuracy: 0.8321 - val_loss: 0.1826 - val_accuracy: 0.9826\n",
      "Epoch 129/1000\n",
      "37/61 [=================>............] - ETA: 0s - loss: 0.4928 - accuracy: 0.8247\n",
      "Epoch 129: saving model to model/keypoint_classifier\\keypoint_classifier.hdf5\n",
      "61/61 [==============================] - 0s 2ms/step - loss: 0.4958 - accuracy: 0.8251 - val_loss: 0.1947 - val_accuracy: 0.9798\n",
      "Epoch 130/1000\n",
      "38/61 [=================>............] - ETA: 0s - loss: 0.4618 - accuracy: 0.8304\n",
      "Epoch 130: saving model to model/keypoint_classifier\\keypoint_classifier.hdf5\n",
      "61/61 [==============================] - 0s 2ms/step - loss: 0.4740 - accuracy: 0.8283 - val_loss: 0.1796 - val_accuracy: 0.9853\n",
      "Epoch 130: early stopping\n"
     ]
    },
    {
     "data": {
      "text/plain": [
       "<keras.callbacks.History at 0x26dd3fb93d0>"
      ]
     },
     "execution_count": 11,
     "metadata": {},
     "output_type": "execute_result"
    }
   ],
   "source": [
    "model.fit(\n",
    "    X_train,\n",
    "    y_train,\n",
    "    epochs=1000,\n",
    "    batch_size=128,\n",
    "    validation_data=(X_test, y_test),\n",
    "    callbacks=[cp_callback, es_callback]\n",
    ")"
   ]
  },
  {
   "cell_type": "code",
   "execution_count": 12,
   "metadata": {
    "colab": {
     "base_uri": "https://localhost:8080/"
    },
    "id": "pxvb2Y299hE3",
    "outputId": "59eb3185-2e37-4b9e-bc9d-ab1b8ac29b7f"
   },
   "outputs": [
    {
     "name": "stdout",
     "output_type": "stream",
     "text": [
      "21/21 [==============================] - 0s 1ms/step - loss: 0.1796 - accuracy: 0.9853\n"
     ]
    }
   ],
   "source": [
    "# Model evaluation\n",
    "val_loss, val_acc = model.evaluate(X_test, y_test, batch_size=128)"
   ]
  },
  {
   "cell_type": "code",
   "execution_count": 13,
   "metadata": {
    "id": "RBkmDeUW9hE4"
   },
   "outputs": [
    {
     "ename": "UnicodeDecodeError",
     "evalue": "'utf-8' codec can't decode byte 0xfc in position 54: invalid start byte",
     "output_type": "error",
     "traceback": [
      "\u001b[1;31m---------------------------------------------------------------------------\u001b[0m",
      "\u001b[1;31mUnicodeDecodeError\u001b[0m                        Traceback (most recent call last)",
      "Cell \u001b[1;32mIn[13], line 2\u001b[0m\n\u001b[0;32m      1\u001b[0m \u001b[38;5;66;03m# Loading the saved model\u001b[39;00m\n\u001b[1;32m----> 2\u001b[0m model \u001b[38;5;241m=\u001b[39m \u001b[43mtf\u001b[49m\u001b[38;5;241;43m.\u001b[39;49m\u001b[43mkeras\u001b[49m\u001b[38;5;241;43m.\u001b[39;49m\u001b[43mmodels\u001b[49m\u001b[38;5;241;43m.\u001b[39;49m\u001b[43mload_model\u001b[49m\u001b[43m(\u001b[49m\u001b[43mmodel_save_path\u001b[49m\u001b[43m)\u001b[49m\n",
      "File \u001b[1;32mc:\\users\\imran\\appdata\\local\\programs\\python\\python39\\lib\\site-packages\\keras\\saving\\saving_api.py:212\u001b[0m, in \u001b[0;36mload_model\u001b[1;34m(filepath, custom_objects, compile, safe_mode, **kwargs)\u001b[0m\n\u001b[0;32m    204\u001b[0m     \u001b[38;5;28;01mreturn\u001b[39;00m saving_lib\u001b[38;5;241m.\u001b[39mload_model(\n\u001b[0;32m    205\u001b[0m         filepath,\n\u001b[0;32m    206\u001b[0m         custom_objects\u001b[38;5;241m=\u001b[39mcustom_objects,\n\u001b[0;32m    207\u001b[0m         \u001b[38;5;28mcompile\u001b[39m\u001b[38;5;241m=\u001b[39m\u001b[38;5;28mcompile\u001b[39m,\n\u001b[0;32m    208\u001b[0m         safe_mode\u001b[38;5;241m=\u001b[39msafe_mode,\n\u001b[0;32m    209\u001b[0m     )\n\u001b[0;32m    211\u001b[0m \u001b[38;5;66;03m# Legacy case.\u001b[39;00m\n\u001b[1;32m--> 212\u001b[0m \u001b[38;5;28;01mreturn\u001b[39;00m legacy_sm_saving_lib\u001b[38;5;241m.\u001b[39mload_model(\n\u001b[0;32m    213\u001b[0m     filepath, custom_objects\u001b[38;5;241m=\u001b[39mcustom_objects, \u001b[38;5;28mcompile\u001b[39m\u001b[38;5;241m=\u001b[39m\u001b[38;5;28mcompile\u001b[39m, \u001b[38;5;241m*\u001b[39m\u001b[38;5;241m*\u001b[39mkwargs\n\u001b[0;32m    214\u001b[0m )\n",
      "File \u001b[1;32mc:\\users\\imran\\appdata\\local\\programs\\python\\python39\\lib\\site-packages\\keras\\utils\\traceback_utils.py:70\u001b[0m, in \u001b[0;36mfilter_traceback.<locals>.error_handler\u001b[1;34m(*args, **kwargs)\u001b[0m\n\u001b[0;32m     67\u001b[0m     filtered_tb \u001b[38;5;241m=\u001b[39m _process_traceback_frames(e\u001b[38;5;241m.\u001b[39m__traceback__)\n\u001b[0;32m     68\u001b[0m     \u001b[38;5;66;03m# To get the full stack trace, call:\u001b[39;00m\n\u001b[0;32m     69\u001b[0m     \u001b[38;5;66;03m# `tf.debugging.disable_traceback_filtering()`\u001b[39;00m\n\u001b[1;32m---> 70\u001b[0m     \u001b[38;5;28;01mraise\u001b[39;00m e\u001b[38;5;241m.\u001b[39mwith_traceback(filtered_tb) \u001b[38;5;28;01mfrom\u001b[39;00m \u001b[38;5;28mNone\u001b[39m\n\u001b[0;32m     71\u001b[0m \u001b[38;5;28;01mfinally\u001b[39;00m:\n\u001b[0;32m     72\u001b[0m     \u001b[38;5;28;01mdel\u001b[39;00m filtered_tb\n",
      "File \u001b[1;32mc:\\users\\imran\\appdata\\local\\programs\\python\\python39\\lib\\site-packages\\tensorflow\\python\\lib\\io\\file_io.py:703\u001b[0m, in \u001b[0;36mis_directory_v2\u001b[1;34m(path)\u001b[0m\n\u001b[0;32m    694\u001b[0m \u001b[38;5;250m\u001b[39m\u001b[38;5;124;03m\"\"\"Returns whether the path is a directory or not.\u001b[39;00m\n\u001b[0;32m    695\u001b[0m \n\u001b[0;32m    696\u001b[0m \u001b[38;5;124;03mArgs:\u001b[39;00m\n\u001b[1;32m   (...)\u001b[0m\n\u001b[0;32m    700\u001b[0m \u001b[38;5;124;03m  True, if the path is a directory; False otherwise\u001b[39;00m\n\u001b[0;32m    701\u001b[0m \u001b[38;5;124;03m\"\"\"\u001b[39;00m\n\u001b[0;32m    702\u001b[0m \u001b[38;5;28;01mtry\u001b[39;00m:\n\u001b[1;32m--> 703\u001b[0m   \u001b[38;5;28;01mreturn\u001b[39;00m _pywrap_file_io\u001b[38;5;241m.\u001b[39mIsDirectory(compat\u001b[38;5;241m.\u001b[39mpath_to_bytes(path))\n\u001b[0;32m    704\u001b[0m \u001b[38;5;28;01mexcept\u001b[39;00m errors\u001b[38;5;241m.\u001b[39mOpError:\n\u001b[0;32m    705\u001b[0m   \u001b[38;5;28;01mreturn\u001b[39;00m \u001b[38;5;28;01mFalse\u001b[39;00m\n",
      "\u001b[1;31mUnicodeDecodeError\u001b[0m: 'utf-8' codec can't decode byte 0xfc in position 54: invalid start byte"
     ]
    }
   ],
   "source": [
    "# Loading the saved model\n",
    "model = tf.keras.models.load_model(model_save_path)"
   ]
  },
  {
   "cell_type": "code",
   "execution_count": 14,
   "metadata": {
    "colab": {
     "base_uri": "https://localhost:8080/"
    },
    "id": "tFz9Tb0I9hE4",
    "outputId": "1c3b3528-54ae-4ee2-ab04-77429211cbef"
   },
   "outputs": [
    {
     "name": "stdout",
     "output_type": "stream",
     "text": [
      "1/1 [==============================] - 0s 67ms/step\n",
      "[2.1187788e-01 1.5092692e-04 3.3635985e-15 8.5885011e-02 1.5038353e-06\n",
      " 5.2790057e-02 6.4008343e-01 2.8367506e-10 1.0905674e-03 9.7600674e-09\n",
      " 8.1205722e-03 8.9249170e-08]\n",
      "6\n"
     ]
    }
   ],
   "source": [
    "# Inference test\n",
    "predict_result = model.predict(np.array([X_test[0]]))\n",
    "print(np.squeeze(predict_result))\n",
    "print(np.argmax(np.squeeze(predict_result)))"
   ]
  },
  {
   "cell_type": "markdown",
   "metadata": {
    "id": "S3U4yNWx9hE4"
   },
   "source": [
    "# Confusion matrix"
   ]
  },
  {
   "cell_type": "code",
   "execution_count": 15,
   "metadata": {
    "colab": {
     "base_uri": "https://localhost:8080/",
     "height": 582
    },
    "id": "AP1V6SCk9hE5",
    "outputId": "08e41a80-7a4a-4619-8125-ecc371368d19"
   },
   "outputs": [
    {
     "name": "stdout",
     "output_type": "stream",
     "text": [
      "81/81 [==============================] - 0s 750us/step\n"
     ]
    },
    {
     "data": {
      "image/png": "[encoded data removed]",
      "text/plain": [
       "<Figure size 700x600 with 2 Axes>"
      ]
     },
     "metadata": {},
     "output_type": "display_data"
    },
    {
     "name": "stdout",
     "output_type": "stream",
     "text": [
      "Classification Report\n",
      "              precision    recall  f1-score   support\n",
      "\n",
      "           0       0.98      0.97      0.97       349\n",
      "           1       1.00      1.00      1.00       298\n",
      "           2       1.00      1.00      1.00       283\n",
      "           3       1.00      0.95      0.98       304\n",
      "           4       0.96      0.99      0.97        88\n",
      "           5       1.00      1.00      1.00        74\n",
      "           6       0.94      0.97      0.96       197\n",
      "           7       0.96      1.00      0.98       107\n",
      "           8       1.00      1.00      1.00       137\n",
      "           9       1.00      0.99      1.00       146\n",
      "          10       0.97      1.00      0.98       377\n",
      "          11       1.00      0.99      0.99       219\n",
      "\n",
      "    accuracy                           0.99      2579\n",
      "   macro avg       0.98      0.99      0.99      2579\n",
      "weighted avg       0.99      0.99      0.99      2579\n",
      "\n"
     ]
    }
   ],
   "source": [
    "import pandas as pd\n",
    "import seaborn as sns\n",
    "import matplotlib.pyplot as plt\n",
    "from sklearn.metrics import confusion_matrix, classification_report\n",
    "\n",
    "def print_confusion_matrix(y_true, y_pred, report=True):\n",
    "    labels = sorted(list(set(y_true)))\n",
    "    cmx_data = confusion_matrix(y_true, y_pred, labels=labels)\n",
    "    \n",
    "    df_cmx = pd.DataFrame(cmx_data, index=labels, columns=labels)\n",
    " \n",
    "    fig, ax = plt.subplots(figsize=(7, 6))\n",
    "    sns.heatmap(df_cmx, annot=True, fmt='g' ,square=False)\n",
    "    ax.set_ylim(len(set(y_true)), 0)\n",
    "    plt.show()\n",
    "    \n",
    "    if report:\n",
    "        print('Classification Report')\n",
    "        print(classification_report(y_test, y_pred))\n",
    "\n",
    "Y_pred = model.predict(X_test)\n",
    "y_pred = np.argmax(Y_pred, axis=1)\n",
    "\n",
    "print_confusion_matrix(y_test, y_pred)"
   ]
  },
  {
   "cell_type": "markdown",
   "metadata": {
    "id": "FNP6aqzc9hE5"
   },
   "source": [
    "# Convert to model for Tensorflow-Lite"
   ]
  },
  {
   "cell_type": "code",
   "execution_count": 16,
   "metadata": {
    "id": "ODjnYyld9hE6"
   },
   "outputs": [],
   "source": [
    "# Save as a model dedicated to inference\n",
    "model.save(model_save_path, include_optimizer=False)"
   ]
  },
  {
   "cell_type": "code",
   "execution_count": 17,
   "metadata": {
    "colab": {
     "base_uri": "https://localhost:8080/"
    },
    "id": "zRfuK8Y59hE6",
    "outputId": "a4ca585c-b5d5-4244-8291-8674063209bb"
   },
   "outputs": [
    {
     "name": "stderr",
     "output_type": "stream",
     "text": [
      "WARNING:absl:Found untraced functions such as _update_step_xla while saving (showing 1 of 1). These functions will not be directly callable after loading.\n"
     ]
    },
    {
     "name": "stdout",
     "output_type": "stream",
     "text": [
      "INFO:tensorflow:Assets written to: C:\\Users\\imran\\AppData\\Local\\Temp\\tmp5w83hyb9\\assets\n"
     ]
    },
    {
     "name": "stderr",
     "output_type": "stream",
     "text": [
      "INFO:tensorflow:Assets written to: C:\\Users\\imran\\AppData\\Local\\Temp\\tmp5w83hyb9\\assets\n"
     ]
    },
    {
     "data": {
      "text/plain": [
       "6864"
      ]
     },
     "execution_count": 17,
     "metadata": {},
     "output_type": "execute_result"
    }
   ],
   "source": [
    "# Transform model (quantization)\n",
    "\n",
    "converter = tf.lite.TFLiteConverter.from_keras_model(model)\n",
    "converter.optimizations = [tf.lite.Optimize.DEFAULT]\n",
    "tflite_quantized_model = converter.convert()\n",
    "\n",
    "open(tflite_save_path, 'wb').write(tflite_quantized_model)"
   ]
  },
  {
   "cell_type": "markdown",
   "metadata": {
    "id": "CHBPBXdx9hE6"
   },
   "source": [
    "# Inference test"
   ]
  },
  {
   "cell_type": "code",
   "execution_count": 18,
   "metadata": {
    "id": "mGAzLocO9hE7"
   },
   "outputs": [],
   "source": [
    "interpreter = tf.lite.Interpreter(model_path=tflite_save_path)\n",
    "interpreter.allocate_tensors()"
   ]
  },
  {
   "cell_type": "code",
   "execution_count": 19,
   "metadata": {
    "id": "oQuDK8YS9hE7"
   },
   "outputs": [],
   "source": [
    "# Get I / O tensor\n",
    "input_details = interpreter.get_input_details()\n",
    "output_details = interpreter.get_output_details()"
   ]
  },
  {
   "cell_type": "code",
   "execution_count": 20,
   "metadata": {
    "id": "2_ixAf_l9hE7"
   },
   "outputs": [],
   "source": [
    "interpreter.set_tensor(input_details[0]['index'], np.array([X_test[0]]))"
   ]
  },
  {
   "cell_type": "code",
   "execution_count": 21,
   "metadata": {
    "colab": {
     "base_uri": "https://localhost:8080/"
    },
    "id": "s4FoAnuc9hE7",
    "outputId": "91f18257-8d8b-4ef3-c558-e9b5f94fabbf",
    "scrolled": true
   },
   "outputs": [
    {
     "name": "stdout",
     "output_type": "stream",
     "text": [
      "CPU times: total: 0 ns\n",
      "Wall time: 0 ns\n"
     ]
    }
   ],
   "source": [
    "%%time\n",
    "# Inference implementation\n",
    "interpreter.invoke()\n",
    "tflite_results = interpreter.get_tensor(output_details[0]['index'])"
   ]
  },
  {
   "cell_type": "code",
   "execution_count": 22,
   "metadata": {
    "colab": {
     "base_uri": "https://localhost:8080/"
    },
    "id": "vONjp19J9hE8",
    "outputId": "77205e24-fd00-42c4-f7b6-e06e527c2cba"
   },
   "outputs": [
    {
     "name": "stdout",
     "output_type": "stream",
     "text": [
      "[2.1058968e-01 1.5381743e-04 3.2706286e-15 8.6634234e-02 1.1644080e-06\n",
      " 4.5310866e-02 6.4837825e-01 2.6451336e-10 1.2511538e-03 1.2245127e-08\n",
      " 7.6807537e-03 8.2828166e-08]\n",
      "6\n"
     ]
    }
   ],
   "source": [
    "print(np.squeeze(tflite_results))\n",
    "print(np.argmax(np.squeeze(tflite_results)))"
   ]
  },
  {
   "cell_type": "code",
   "execution_count": null,
   "metadata": {},
   "outputs": [],
   "source": []
  },
  {
   "cell_type": "code",
   "execution_count": null,
   "metadata": {},
   "outputs": [],
   "source": []
  }
 ],
 "metadata": {
  "accelerator": "GPU",
  "colab": {
   "collapsed_sections": [],
   "name": "keypoint_classification_EN.ipynb",
   "provenance": [],
   "toc_visible": true
  },
  "kernelspec": {
   "display_name": "Python 3 (ipykernel)",
   "language": "python",
   "name": "python3"
  },
  "language_info": {
   "codemirror_mode": {
    "name": "ipython",
    "version": 3
   },
   "file_extension": ".py",
   "mimetype": "text/x-python",
   "name": "python",
   "nbconvert_exporter": "python",
   "pygments_lexer": "ipython3",
   "version": "3.9.6"
  }
 },
 "nbformat": 4,
 "nbformat_minor": 1
}
